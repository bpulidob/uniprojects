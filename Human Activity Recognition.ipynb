{
 "cells": [
  {
   "cell_type": "markdown",
   "metadata": {},
   "source": [
    "# Human Activity Recognition"
   ]
  },
  {
   "cell_type": "markdown",
   "metadata": {
    "colab_type": "text",
    "id": "7SuEAVMA69am"
   },
   "source": [
    "Belén Pulido Bravo  \n",
    "Enrique Ramírez Díaz "
   ]
  },
  {
   "cell_type": "markdown",
   "metadata": {},
   "source": [
    "The aim of this project was labelling different human activities upon the data register by 5 dimensional signals: a 2-axes accelerometer and a 3-axes gyroscope, in semi-naturalistic conditions.\n",
    "\n",
    "The set of activities recorded for labelling were:\n",
    "\n",
    "- running\n",
    "- walking\n",
    "- standing\n",
    "- sitting\n",
    "- lying\n",
    "\n",
    "The data provided for this assignment corresponded to 10 different people, 8 of them labelled and having a sample frequeency of 16 Hz, and 2 of them unlabelled. Each of the recordings lasted less than 20 minutes.\n",
    "\n",
    "The main goal of this project is to infer the activity carried out by the 2 unlabelled sequences."
   ]
  },
  {
   "cell_type": "markdown",
   "metadata": {},
   "source": [
    "## Load the dataset"
   ]
  },
  {
   "cell_type": "markdown",
   "metadata": {},
   "source": [
    "The data available was transferred into two different pandas dataframes, one corresponding to the training data (8 labelled sequences) and which resulted into a matrix of 141426 rows and 6 columns, and another one corresponding to the testing data (2 unlabelled sequences) which resulted into a matrix of 42188 rows and 5 columns. Moreover, the first five columns of both dataframes corresponded to each of the 5 dimensional signals explained before, and the remaining column from the training dataframe which corresponds to the labelled activity that had been developed at that moment. "
   ]
  },
  {
   "cell_type": "code",
   "execution_count": 0,
   "metadata": {
    "colab": {
     "base_uri": "https://localhost:8080/",
     "height": 118
    },
    "colab_type": "code",
    "executionInfo": {
     "elapsed": 30260,
     "status": "ok",
     "timestamp": 1589461905037,
     "user": {
      "displayName": "BELEN PULIDO BRAVO",
      "photoUrl": "",
      "userId": "09868762370980769562"
     },
     "user_tz": -120
    },
    "id": "8-sT3AJzkmNu",
    "outputId": "c650727a-cba8-4f5c-8525-423a1c0b2583"
   },
   "outputs": [
    {
     "name": "stdout",
     "output_type": "stream",
     "text": [
      "Go to this URL in a browser: https://accounts.google.com/o/oauth2/auth?client_id=947318989803-6bn6qk8qdgf4n4g3pfee6491hc0brc4i.apps.googleusercontent.com&redirect_uri=urn%3aietf%3awg%3aoauth%3a2.0%3aoob&response_type=code&scope=email%20https%3a%2f%2fwww.googleapis.com%2fauth%2fdocs.test%20https%3a%2f%2fwww.googleapis.com%2fauth%2fdrive%20https%3a%2f%2fwww.googleapis.com%2fauth%2fdrive.photos.readonly%20https%3a%2f%2fwww.googleapis.com%2fauth%2fpeopleapi.readonly\n",
      "\n",
      "Enter your authorization code:\n",
      "··········\n",
      "Mounted at /content/drive\n"
     ]
    }
   ],
   "source": [
    "# Load the Drive helper and mount\n",
    "from google.colab import drive\n",
    "\n",
    "# This will prompt for authorization.\n",
    "drive.mount('/content/drive')\n",
    "\n",
    "# Change to assignment directory \n",
    "import os\n",
    "os.chdir('/content/drive/My Drive/Colab Notebooks/Lab_Exercises_DASS/LAB2/')"
   ]
  },
  {
   "cell_type": "code",
   "execution_count": 0,
   "metadata": {
    "colab": {},
    "colab_type": "code",
    "id": "RyWE4Y0rlAe0"
   },
   "outputs": [],
   "source": [
    "from scipy.io import loadmat,savemat\n",
    "import pandas as pd\n",
    "import numpy as np\n",
    "import os\n",
    "import matplotlib.pyplot as plt"
   ]
  },
  {
   "cell_type": "markdown",
   "metadata": {
    "colab_type": "text",
    "id": "NfPzzesaa2Sq"
   },
   "source": [
    "Load data:"
   ]
  },
  {
   "cell_type": "code",
   "execution_count": 0,
   "metadata": {
    "colab": {},
    "colab_type": "code",
    "id": "8Yc1GX9ktm0T"
   },
   "outputs": [],
   "source": [
    "data = loadmat('HAR_database.mat')\n",
    "train_data = data['database_training']\n",
    "test_data = data['database_test']"
   ]
  },
  {
   "cell_type": "markdown",
   "metadata": {
    "colab_type": "text",
    "id": "RTvR0Exoa5p0"
   },
   "source": [
    "Create a data frame for training data:"
   ]
  },
  {
   "cell_type": "code",
   "execution_count": 0,
   "metadata": {
    "colab": {},
    "colab_type": "code",
    "id": "JGlECVYW2prO"
   },
   "outputs": [],
   "source": [
    "d1 = {'acc_z': train_data[0][0][0], 'acc_xy': train_data[0][0][1], 'gyro_x': train_data[0][0][2], 'gyro_y': train_data[0][0][3], 'gyro_z': train_data[0][0][4], 'label': train_data[0][1][0]}\n",
    "d2 = {'acc_z': train_data[1][0][0], 'acc_xy': train_data[1][0][1], 'gyro_x': train_data[1][0][2], 'gyro_y': train_data[1][0][3], 'gyro_z': train_data[1][0][4], 'label': train_data[1][1][0]}\n",
    "d3 = {'acc_z': train_data[2][0][0], 'acc_xy': train_data[2][0][1], 'gyro_x': train_data[2][0][2], 'gyro_y': train_data[2][0][3], 'gyro_z': train_data[2][0][4], 'label': train_data[2][1][0]}\n",
    "d4 = {'acc_z': train_data[3][0][0], 'acc_xy': train_data[3][0][1], 'gyro_x': train_data[3][0][2], 'gyro_y': train_data[3][0][3], 'gyro_z': train_data[3][0][4], 'label': train_data[3][1][0]}\n",
    "d5 = {'acc_z': train_data[4][0][0], 'acc_xy': train_data[4][0][1], 'gyro_x': train_data[4][0][2], 'gyro_y': train_data[4][0][3], 'gyro_z': train_data[4][0][4], 'label': train_data[4][1][0]}\n",
    "d6 = {'acc_z': train_data[5][0][0], 'acc_xy': train_data[5][0][1], 'gyro_x': train_data[5][0][2], 'gyro_y': train_data[5][0][3], 'gyro_z': train_data[5][0][4], 'label': train_data[5][1][0]}\n",
    "d7 = {'acc_z': train_data[6][0][0], 'acc_xy': train_data[6][0][1], 'gyro_x': train_data[6][0][2], 'gyro_y': train_data[6][0][3], 'gyro_z': train_data[6][0][4], 'label': train_data[6][1][0]}\n",
    "d8 = {'acc_z': train_data[7][0][0], 'acc_xy': train_data[7][0][1], 'gyro_x': train_data[7][0][2], 'gyro_y': train_data[7][0][3], 'gyro_z': train_data[7][0][4], 'label': train_data[7][1][0]}\n",
    "\n",
    "df1 = pd.DataFrame(d1)\n",
    "df2 = pd.DataFrame(d2)\n",
    "df3 = pd.DataFrame(d3)\n",
    "df4 = pd.DataFrame(d4)\n",
    "df5 = pd.DataFrame(d5)\n",
    "df6 = pd.DataFrame(d6)\n",
    "df7 = pd.DataFrame(d7)\n",
    "df8 = pd.DataFrame(d8)\n",
    "\n",
    "frames = [df1, df2, df3, df4, df5, df6, df7, df8]\n",
    "\n",
    "df = pd.concat(frames, keys = [1,2,3,4,5,6,7,8])"
   ]
  },
  {
   "cell_type": "code",
   "execution_count": 0,
   "metadata": {
    "colab": {
     "base_uri": "https://localhost:8080/",
     "height": 391
    },
    "colab_type": "code",
    "executionInfo": {
     "elapsed": 5723,
     "status": "ok",
     "timestamp": 1589461918010,
     "user": {
      "displayName": "BELEN PULIDO BRAVO",
      "photoUrl": "",
      "userId": "09868762370980769562"
     },
     "user_tz": -120
    },
    "id": "Jj7X5pu7A9aV",
    "outputId": "cad1acb5-a4e1-4dc6-ae91-da4e6d39225a"
   },
   "outputs": [
    {
     "data": {
      "text/html": [
       "<div>\n",
       "<style scoped>\n",
       "    .dataframe tbody tr th:only-of-type {\n",
       "        vertical-align: middle;\n",
       "    }\n",
       "\n",
       "    .dataframe tbody tr th {\n",
       "        vertical-align: top;\n",
       "    }\n",
       "\n",
       "    .dataframe thead th {\n",
       "        text-align: right;\n",
       "    }\n",
       "</style>\n",
       "<table border=\"1\" class=\"dataframe\">\n",
       "  <thead>\n",
       "    <tr style=\"text-align: right;\">\n",
       "      <th></th>\n",
       "      <th></th>\n",
       "      <th>acc_z</th>\n",
       "      <th>acc_xy</th>\n",
       "      <th>gyro_x</th>\n",
       "      <th>gyro_y</th>\n",
       "      <th>gyro_z</th>\n",
       "      <th>label</th>\n",
       "    </tr>\n",
       "  </thead>\n",
       "  <tbody>\n",
       "    <tr>\n",
       "      <th rowspan=\"5\" valign=\"top\">1</th>\n",
       "      <th>0</th>\n",
       "      <td>0.024173</td>\n",
       "      <td>0.594417</td>\n",
       "      <td>-0.022736</td>\n",
       "      <td>0.111962</td>\n",
       "      <td>0.060499</td>\n",
       "      <td>3</td>\n",
       "    </tr>\n",
       "    <tr>\n",
       "      <th>1</th>\n",
       "      <td>0.019905</td>\n",
       "      <td>0.602472</td>\n",
       "      <td>-0.012875</td>\n",
       "      <td>0.103796</td>\n",
       "      <td>0.055157</td>\n",
       "      <td>3</td>\n",
       "    </tr>\n",
       "    <tr>\n",
       "      <th>2</th>\n",
       "      <td>0.034749</td>\n",
       "      <td>0.525821</td>\n",
       "      <td>-0.020016</td>\n",
       "      <td>0.103193</td>\n",
       "      <td>0.057541</td>\n",
       "      <td>3</td>\n",
       "    </tr>\n",
       "    <tr>\n",
       "      <th>3</th>\n",
       "      <td>0.059832</td>\n",
       "      <td>0.621057</td>\n",
       "      <td>-0.026841</td>\n",
       "      <td>0.104378</td>\n",
       "      <td>0.063853</td>\n",
       "      <td>3</td>\n",
       "    </tr>\n",
       "    <tr>\n",
       "      <th>4</th>\n",
       "      <td>0.044743</td>\n",
       "      <td>0.653001</td>\n",
       "      <td>-0.014540</td>\n",
       "      <td>0.103560</td>\n",
       "      <td>0.066084</td>\n",
       "      <td>3</td>\n",
       "    </tr>\n",
       "    <tr>\n",
       "      <th>...</th>\n",
       "      <th>...</th>\n",
       "      <td>...</td>\n",
       "      <td>...</td>\n",
       "      <td>...</td>\n",
       "      <td>...</td>\n",
       "      <td>...</td>\n",
       "      <td>...</td>\n",
       "    </tr>\n",
       "    <tr>\n",
       "      <th rowspan=\"5\" valign=\"top\">8</th>\n",
       "      <th>17605</th>\n",
       "      <td>0.577717</td>\n",
       "      <td>1.784139</td>\n",
       "      <td>-0.081926</td>\n",
       "      <td>-0.095167</td>\n",
       "      <td>0.068769</td>\n",
       "      <td>3</td>\n",
       "    </tr>\n",
       "    <tr>\n",
       "      <th>17606</th>\n",
       "      <td>0.577288</td>\n",
       "      <td>1.860482</td>\n",
       "      <td>-0.080316</td>\n",
       "      <td>-0.088788</td>\n",
       "      <td>0.071567</td>\n",
       "      <td>3</td>\n",
       "    </tr>\n",
       "    <tr>\n",
       "      <th>17607</th>\n",
       "      <td>0.583964</td>\n",
       "      <td>1.844136</td>\n",
       "      <td>-0.073664</td>\n",
       "      <td>-0.101740</td>\n",
       "      <td>0.081287</td>\n",
       "      <td>3</td>\n",
       "    </tr>\n",
       "    <tr>\n",
       "      <th>17608</th>\n",
       "      <td>0.572480</td>\n",
       "      <td>1.783769</td>\n",
       "      <td>-0.073399</td>\n",
       "      <td>-0.089936</td>\n",
       "      <td>0.052906</td>\n",
       "      <td>3</td>\n",
       "    </tr>\n",
       "    <tr>\n",
       "      <th>17609</th>\n",
       "      <td>0.582015</td>\n",
       "      <td>1.817274</td>\n",
       "      <td>-0.088948</td>\n",
       "      <td>-0.091812</td>\n",
       "      <td>0.066497</td>\n",
       "      <td>3</td>\n",
       "    </tr>\n",
       "  </tbody>\n",
       "</table>\n",
       "<p>141426 rows × 6 columns</p>\n",
       "</div>"
      ],
      "text/plain": [
       "            acc_z    acc_xy    gyro_x    gyro_y    gyro_z  label\n",
       "1 0      0.024173  0.594417 -0.022736  0.111962  0.060499      3\n",
       "  1      0.019905  0.602472 -0.012875  0.103796  0.055157      3\n",
       "  2      0.034749  0.525821 -0.020016  0.103193  0.057541      3\n",
       "  3      0.059832  0.621057 -0.026841  0.104378  0.063853      3\n",
       "  4      0.044743  0.653001 -0.014540  0.103560  0.066084      3\n",
       "...           ...       ...       ...       ...       ...    ...\n",
       "8 17605  0.577717  1.784139 -0.081926 -0.095167  0.068769      3\n",
       "  17606  0.577288  1.860482 -0.080316 -0.088788  0.071567      3\n",
       "  17607  0.583964  1.844136 -0.073664 -0.101740  0.081287      3\n",
       "  17608  0.572480  1.783769 -0.073399 -0.089936  0.052906      3\n",
       "  17609  0.582015  1.817274 -0.088948 -0.091812  0.066497      3\n",
       "\n",
       "[141426 rows x 6 columns]"
      ]
     },
     "execution_count": 5,
     "metadata": {
      "tags": []
     },
     "output_type": "execute_result"
    }
   ],
   "source": [
    "df\n"
   ]
  },
  {
   "cell_type": "markdown",
   "metadata": {
    "colab_type": "text",
    "id": "EntJF3ZybCjY"
   },
   "source": [
    "Create a data frame for tessting data:"
   ]
  },
  {
   "cell_type": "code",
   "execution_count": 0,
   "metadata": {
    "colab": {},
    "colab_type": "code",
    "id": "a_YB3Rk9mBXM"
   },
   "outputs": [],
   "source": [
    "d1 = {'acc_z': test_data[0][0][0], 'acc_xy': test_data[0][0][1], 'gyro_x': test_data[0][0][2], 'gyro_y': test_data[0][0][3], 'gyro_z': test_data[0][0][4]}\n",
    "d2 = {'acc_z': test_data[1][0][0], 'acc_xy': test_data[1][0][1], 'gyro_x': test_data[1][0][2], 'gyro_y': test_data[1][0][3], 'gyro_z': test_data[1][0][4]}\n",
    "\n",
    "df1 = pd.DataFrame(d1)\n",
    "df2 = pd.DataFrame(d2)\n",
    "\n",
    "frames = [df1, df2]\n",
    "\n",
    "df_test = pd.concat(frames, keys = [1,2])"
   ]
  },
  {
   "cell_type": "code",
   "execution_count": 0,
   "metadata": {
    "colab": {
     "base_uri": "https://localhost:8080/",
     "height": 391
    },
    "colab_type": "code",
    "executionInfo": {
     "elapsed": 5673,
     "status": "ok",
     "timestamp": 1589461918013,
     "user": {
      "displayName": "BELEN PULIDO BRAVO",
      "photoUrl": "",
      "userId": "09868762370980769562"
     },
     "user_tz": -120
    },
    "id": "bkyMiClbmY1X",
    "outputId": "73d385a1-bea8-48e2-b8a1-7c6690cf62c7"
   },
   "outputs": [
    {
     "data": {
      "text/html": [
       "<div>\n",
       "<style scoped>\n",
       "    .dataframe tbody tr th:only-of-type {\n",
       "        vertical-align: middle;\n",
       "    }\n",
       "\n",
       "    .dataframe tbody tr th {\n",
       "        vertical-align: top;\n",
       "    }\n",
       "\n",
       "    .dataframe thead th {\n",
       "        text-align: right;\n",
       "    }\n",
       "</style>\n",
       "<table border=\"1\" class=\"dataframe\">\n",
       "  <thead>\n",
       "    <tr style=\"text-align: right;\">\n",
       "      <th></th>\n",
       "      <th></th>\n",
       "      <th>acc_z</th>\n",
       "      <th>acc_xy</th>\n",
       "      <th>gyro_x</th>\n",
       "      <th>gyro_y</th>\n",
       "      <th>gyro_z</th>\n",
       "    </tr>\n",
       "  </thead>\n",
       "  <tbody>\n",
       "    <tr>\n",
       "      <th rowspan=\"5\" valign=\"top\">1</th>\n",
       "      <th>0</th>\n",
       "      <td>-0.065170</td>\n",
       "      <td>0.382690</td>\n",
       "      <td>-0.213375</td>\n",
       "      <td>0.189977</td>\n",
       "      <td>0.132347</td>\n",
       "    </tr>\n",
       "    <tr>\n",
       "      <th>1</th>\n",
       "      <td>0.018816</td>\n",
       "      <td>0.564156</td>\n",
       "      <td>0.059815</td>\n",
       "      <td>0.091269</td>\n",
       "      <td>0.129378</td>\n",
       "    </tr>\n",
       "    <tr>\n",
       "      <th>2</th>\n",
       "      <td>0.028664</td>\n",
       "      <td>0.534412</td>\n",
       "      <td>0.109575</td>\n",
       "      <td>0.062156</td>\n",
       "      <td>0.158687</td>\n",
       "    </tr>\n",
       "    <tr>\n",
       "      <th>3</th>\n",
       "      <td>0.044055</td>\n",
       "      <td>0.531722</td>\n",
       "      <td>0.077823</td>\n",
       "      <td>0.070266</td>\n",
       "      <td>0.213016</td>\n",
       "    </tr>\n",
       "    <tr>\n",
       "      <th>4</th>\n",
       "      <td>0.073239</td>\n",
       "      <td>0.330309</td>\n",
       "      <td>0.042073</td>\n",
       "      <td>0.104790</td>\n",
       "      <td>0.254729</td>\n",
       "    </tr>\n",
       "    <tr>\n",
       "      <th>...</th>\n",
       "      <th>...</th>\n",
       "      <td>...</td>\n",
       "      <td>...</td>\n",
       "      <td>...</td>\n",
       "      <td>...</td>\n",
       "      <td>...</td>\n",
       "    </tr>\n",
       "    <tr>\n",
       "      <th rowspan=\"5\" valign=\"top\">2</th>\n",
       "      <th>22610</th>\n",
       "      <td>0.033105</td>\n",
       "      <td>0.432212</td>\n",
       "      <td>-0.091362</td>\n",
       "      <td>-0.101866</td>\n",
       "      <td>0.052534</td>\n",
       "    </tr>\n",
       "    <tr>\n",
       "      <th>22611</th>\n",
       "      <td>0.025125</td>\n",
       "      <td>0.416729</td>\n",
       "      <td>-0.097420</td>\n",
       "      <td>-0.092306</td>\n",
       "      <td>0.056841</td>\n",
       "    </tr>\n",
       "    <tr>\n",
       "      <th>22612</th>\n",
       "      <td>-0.004730</td>\n",
       "      <td>0.435754</td>\n",
       "      <td>-0.092469</td>\n",
       "      <td>-0.096682</td>\n",
       "      <td>0.050962</td>\n",
       "    </tr>\n",
       "    <tr>\n",
       "      <th>22613</th>\n",
       "      <td>-0.016084</td>\n",
       "      <td>0.439480</td>\n",
       "      <td>-0.083564</td>\n",
       "      <td>-0.096922</td>\n",
       "      <td>0.043268</td>\n",
       "    </tr>\n",
       "    <tr>\n",
       "      <th>22614</th>\n",
       "      <td>0.003370</td>\n",
       "      <td>0.440241</td>\n",
       "      <td>-0.082508</td>\n",
       "      <td>-0.103798</td>\n",
       "      <td>0.040693</td>\n",
       "    </tr>\n",
       "  </tbody>\n",
       "</table>\n",
       "<p>42188 rows × 5 columns</p>\n",
       "</div>"
      ],
      "text/plain": [
       "            acc_z    acc_xy    gyro_x    gyro_y    gyro_z\n",
       "1 0     -0.065170  0.382690 -0.213375  0.189977  0.132347\n",
       "  1      0.018816  0.564156  0.059815  0.091269  0.129378\n",
       "  2      0.028664  0.534412  0.109575  0.062156  0.158687\n",
       "  3      0.044055  0.531722  0.077823  0.070266  0.213016\n",
       "  4      0.073239  0.330309  0.042073  0.104790  0.254729\n",
       "...           ...       ...       ...       ...       ...\n",
       "2 22610  0.033105  0.432212 -0.091362 -0.101866  0.052534\n",
       "  22611  0.025125  0.416729 -0.097420 -0.092306  0.056841\n",
       "  22612 -0.004730  0.435754 -0.092469 -0.096682  0.050962\n",
       "  22613 -0.016084  0.439480 -0.083564 -0.096922  0.043268\n",
       "  22614  0.003370  0.440241 -0.082508 -0.103798  0.040693\n",
       "\n",
       "[42188 rows x 5 columns]"
      ]
     },
     "execution_count": 7,
     "metadata": {
      "tags": []
     },
     "output_type": "execute_result"
    }
   ],
   "source": [
    "df_test"
   ]
  },
  {
   "cell_type": "markdown",
   "metadata": {
    "colab_type": "text",
    "id": "nVeVRXtvbHbn"
   },
   "source": [
    "## Obtaining information from data"
   ]
  },
  {
   "cell_type": "markdown",
   "metadata": {},
   "source": [
    "The training data provided consists of 8 labelled sequences from 8 different persons who\n",
    "developed different activities. There were five different activities: Running (1), Walking (2), Standing(3), Sitting(4) and Lying(5). \n",
    "\n",
    "Each of the training sequences had a duration inferior to 20 minutes, while testing sequences are over 20 minutes. Besides, time is not equally distributed among each activity, being standing or\n",
    "sitting much more common than running for example.\n",
    "\n",
    "As the distribution of each activity seems to be similar por each person, it makes sense to take 6 people to train our model and 2 people for evaluate it, so we can have an idea of its accuracy before we apply it to the test set."
   ]
  },
  {
   "cell_type": "code",
   "execution_count": 0,
   "metadata": {
    "colab": {
     "base_uri": "https://localhost:8080/",
     "height": 33
    },
    "colab_type": "code",
    "executionInfo": {
     "elapsed": 5638,
     "status": "ok",
     "timestamp": 1589461918014,
     "user": {
      "displayName": "BELEN PULIDO BRAVO",
      "photoUrl": "",
      "userId": "09868762370980769562"
     },
     "user_tz": -120
    },
    "id": "vZmgwlIf99gt",
    "outputId": "f4e8a5bb-1456-4c9a-b36e-a32c5a8ed448"
   },
   "outputs": [
    {
     "name": "stdout",
     "output_type": "stream",
     "text": [
      "[1 2 3 4 5]\n"
     ]
    }
   ],
   "source": [
    "#activities\n",
    "val = np.sort(df.label.unique())\n",
    "print(val)"
   ]
  },
  {
   "cell_type": "code",
   "execution_count": 0,
   "metadata": {
    "colab": {
     "base_uri": "https://localhost:8080/",
     "height": 33
    },
    "colab_type": "code",
    "executionInfo": {
     "elapsed": 5609,
     "status": "ok",
     "timestamp": 1589461918015,
     "user": {
      "displayName": "BELEN PULIDO BRAVO",
      "photoUrl": "",
      "userId": "09868762370980769562"
     },
     "user_tz": -120
    },
    "id": "fGVjYfHd_6CY",
    "outputId": "0798eae0-b4bb-47e8-8878-b7fd55053018"
   },
   "outputs": [
    {
     "name": "stdout",
     "output_type": "stream",
     "text": [
      "[4807, 29372, 41846, 40570, 24831]\n"
     ]
    }
   ],
   "source": [
    "#rows per activity\n",
    "count = []\n",
    "\n",
    "for i in val:\n",
    "    count.append(df.label[df['label']==i].count())\n",
    "\n",
    "print(count)\n",
    "# A lot more data for activities 3 and 5"
   ]
  },
  {
   "cell_type": "code",
   "execution_count": 0,
   "metadata": {
    "colab": {
     "base_uri": "https://localhost:8080/",
     "height": 147
    },
    "colab_type": "code",
    "executionInfo": {
     "elapsed": 5565,
     "status": "ok",
     "timestamp": 1589461918016,
     "user": {
      "displayName": "BELEN PULIDO BRAVO",
      "photoUrl": "",
      "userId": "09868762370980769562"
     },
     "user_tz": -120
    },
    "id": "VHicTmHuSqR4",
    "outputId": "e9e1e673-b207-4d1e-8b66-5d75d4a61212"
   },
   "outputs": [
    {
     "data": {
      "text/plain": [
       "[[527, 3563, 5800, 5317, 2529],\n",
       " [657, 3666, 5943, 4571, 3574],\n",
       " [550, 3009, 4900, 5865, 3116],\n",
       " [607, 3529, 5813, 5257, 2620],\n",
       " [679, 4495, 4102, 4504, 3140],\n",
       " [585, 4390, 4411, 4645, 3396],\n",
       " [696, 3606, 5838, 4657, 3259],\n",
       " [506, 3114, 5039, 5754, 3197]]"
      ]
     },
     "metadata": {
      "tags": []
     },
     "output_type": "display_data"
    }
   ],
   "source": [
    "#rows per activity per person\n",
    "p_count = []\n",
    "\n",
    "for i in range(1,9):\n",
    "  p_count_i = []\n",
    "  for j in val:\n",
    "     p_count_i.append((df.loc[i]).label[df.loc[i,'label']==j].count())\n",
    "  p_count.append(p_count_i)\n",
    "\n",
    "#print(p_count)\n",
    "display(p_count)"
   ]
  },
  {
   "cell_type": "code",
   "execution_count": 0,
   "metadata": {
    "colab": {
     "base_uri": "https://localhost:8080/",
     "height": 147
    },
    "colab_type": "code",
    "executionInfo": {
     "elapsed": 5537,
     "status": "ok",
     "timestamp": 1589461918018,
     "user": {
      "displayName": "BELEN PULIDO BRAVO",
      "photoUrl": "",
      "userId": "09868762370980769562"
     },
     "user_tz": -120
    },
    "id": "7ZxBvSnH5lr1",
    "outputId": "5d18eb89-27c6-42b6-8c07-0d6284d8c136"
   },
   "outputs": [
    {
     "name": "stdout",
     "output_type": "stream",
     "text": [
      "18.475\n",
      "19.178125\n",
      "18.166666666666668\n",
      "18.56875\n",
      "17.625\n",
      "18.153125\n",
      "18.808333333333334\n",
      "18.34375\n"
     ]
    }
   ],
   "source": [
    "# Duration (minuts) for each recording (train)\n",
    "for i in (range(1,9)):\n",
    "  print((((df.loc[i]).shape[0]))/(60*16))"
   ]
  },
  {
   "cell_type": "code",
   "execution_count": 0,
   "metadata": {
    "colab": {
     "base_uri": "https://localhost:8080/",
     "height": 50
    },
    "colab_type": "code",
    "executionInfo": {
     "elapsed": 6844,
     "status": "ok",
     "timestamp": 1589461919359,
     "user": {
      "displayName": "BELEN PULIDO BRAVO",
      "photoUrl": "",
      "userId": "09868762370980769562"
     },
     "user_tz": -120
    },
    "id": "82OwEaAcmmgF",
    "outputId": "ddd66a54-3a4d-4590-9a0c-72eb859cf0bf"
   },
   "outputs": [
    {
     "name": "stdout",
     "output_type": "stream",
     "text": [
      "20.388541666666665\n",
      "23.557291666666668\n"
     ]
    }
   ],
   "source": [
    "# Duration (minuts) for each recording (test)\n",
    "for i in (range(1,3)):\n",
    "  print((((df_test.loc[i]).shape[0]))/(60*16))"
   ]
  },
  {
   "cell_type": "code",
   "execution_count": 0,
   "metadata": {
    "colab": {
     "base_uri": "https://localhost:8080/",
     "height": 33
    },
    "colab_type": "code",
    "executionInfo": {
     "elapsed": 6814,
     "status": "ok",
     "timestamp": 1589461919362,
     "user": {
      "displayName": "BELEN PULIDO BRAVO",
      "photoUrl": "",
      "userId": "09868762370980769562"
     },
     "user_tz": -120
    },
    "id": "7_Ayukoi8CHK",
    "outputId": "66382748-c7b6-4ee7-9b63-eea4422e403a"
   },
   "outputs": [
    {
     "name": "stdout",
     "output_type": "stream",
     "text": [
      "[17736, 18411, 17440, 17826, 16920, 17427, 18056, 17610]\n"
     ]
    }
   ],
   "source": [
    "#rows per person (train)\n",
    "p_size = []\n",
    "for i in (range(1,9)):\n",
    "  p_size.append(((df.loc[i]).shape[0]))\n",
    "print(p_size)"
   ]
  },
  {
   "cell_type": "code",
   "execution_count": 0,
   "metadata": {
    "colab": {
     "base_uri": "https://localhost:8080/",
     "height": 33
    },
    "colab_type": "code",
    "executionInfo": {
     "elapsed": 6779,
     "status": "ok",
     "timestamp": 1589461919364,
     "user": {
      "displayName": "BELEN PULIDO BRAVO",
      "photoUrl": "",
      "userId": "09868762370980769562"
     },
     "user_tz": -120
    },
    "id": "x7wHhzd3nCeK",
    "outputId": "f667a1cb-3691-4075-d5c6-4fe0e704db76"
   },
   "outputs": [
    {
     "name": "stdout",
     "output_type": "stream",
     "text": [
      "[17736, 18411, 17440, 17826, 16920, 17427, 18056, 17610, 19573, 22615]\n"
     ]
    }
   ],
   "source": [
    "#rows per person (train and test)\n",
    "p_size_total = []\n",
    "for i in (range(1,9)):\n",
    "  p_size_total.append(((df.loc[i]).shape[0]))\n",
    "for i in range(1,3):\n",
    "   p_size_total.append(((df_test.loc[i]).shape[0]))\n",
    "print(p_size_total)"
   ]
  },
  {
   "cell_type": "code",
   "execution_count": 0,
   "metadata": {
    "colab": {
     "base_uri": "https://localhost:8080/",
     "height": 295
    },
    "colab_type": "code",
    "executionInfo": {
     "elapsed": 6751,
     "status": "ok",
     "timestamp": 1589461919366,
     "user": {
      "displayName": "BELEN PULIDO BRAVO",
      "photoUrl": "",
      "userId": "09868762370980769562"
     },
     "user_tz": -120
    },
    "id": "o1MbQS2pLiYi",
    "outputId": "a9ba9b5a-c07c-4005-db6b-dcac29a926c7"
   },
   "outputs": [
    {
     "data": {
      "image/png": "[encoded data removed]",
      "text/plain": [
       "<Figure size 432x288 with 1 Axes>"
      ]
     },
     "metadata": {
      "needs_background": "light",
      "tags": []
     },
     "output_type": "display_data"
    }
   ],
   "source": [
    "bars = ('1', '2', '3', '4', '5', '6', '7', '8','1','2')\n",
    "y_pos = np.arange(len(bars))\n",
    " \n",
    "# Create bars and choose color\n",
    "#plt.bar(y_pos, p_size,color=('m','y','g','purple','salmon','b','olive','c'))\n",
    "plt.bar(y_pos, p_size_total,color=('b','b','b','b','b','b','b','b','m','m'))\n",
    "\n",
    "# Add title and axis names\n",
    "plt.title('Distribution of the amount of data for each person (train/test)')\n",
    "plt.xlabel('Persons')\n",
    "plt.ylabel('Counts')\n",
    " \n",
    "# Create names\n",
    "plt.xticks(y_pos, bars)\n",
    " \n",
    "# Show graphic\n",
    "plt.show()"
   ]
  },
  {
   "cell_type": "code",
   "execution_count": 0,
   "metadata": {
    "colab": {},
    "colab_type": "code",
    "id": "b360RpLmoium"
   },
   "outputs": [],
   "source": [
    "def plot_person_activities(count):\n",
    "  plt.figure()\n",
    "  bars = ('Running', 'Walking', 'Standing', 'Sitting', 'Lying')\n",
    "  y_pos = np.arange(len(bars))\n",
    "  # Create bars and choose color\n",
    "  plt.bar(y_pos, count ,color=('m','y','g','salmon','b'))\n",
    "  \n",
    "  # Add title and axis names\n",
    "  plt.title('Distribution of the amount of data for each activity')\n",
    "  plt.xlabel('Activities')\n",
    "  plt.ylabel('Counts')\n",
    "  \n",
    "  # Create names\n",
    "  plt.xticks(y_pos, bars)\n",
    "  # Show graphic\n",
    "  plt.show()\n"
   ]
  },
  {
   "cell_type": "code",
   "execution_count": 0,
   "metadata": {
    "colab": {
     "base_uri": "https://localhost:8080/",
     "height": 295
    },
    "colab_type": "code",
    "executionInfo": {
     "elapsed": 6703,
     "status": "ok",
     "timestamp": 1589461919374,
     "user": {
      "displayName": "BELEN PULIDO BRAVO",
      "photoUrl": "",
      "userId": "09868762370980769562"
     },
     "user_tz": -120
    },
    "id": "xsu6n2I6piIK",
    "outputId": "26af5339-514e-4092-b6d5-1559989254fb"
   },
   "outputs": [
    {
     "data": {
      "image/png": "[encoded data removed]",
      "text/plain": [
       "<Figure size 432x288 with 1 Axes>"
      ]
     },
     "metadata": {
      "needs_background": "light",
      "tags": []
     },
     "output_type": "display_data"
    }
   ],
   "source": [
    "plot_person_activities(count)"
   ]
  },
  {
   "cell_type": "code",
   "execution_count": 0,
   "metadata": {
    "colab": {
     "base_uri": "https://localhost:8080/",
     "height": 1000
    },
    "colab_type": "code",
    "executionInfo": {
     "elapsed": 7772,
     "status": "ok",
     "timestamp": 1589461920474,
     "user": {
      "displayName": "BELEN PULIDO BRAVO",
      "photoUrl": "",
      "userId": "09868762370980769562"
     },
     "user_tz": -120
    },
    "id": "zsxRkA2Spo1C",
    "outputId": "387261c9-c316-483f-cfef-53e514501258"
   },
   "outputs": [
    {
     "name": "stdout",
     "output_type": "stream",
     "text": [
      "Person 1\n"
     ]
    },
    {
     "data": {
      "image/png": "[encoded data removed]",
      "text/plain": [
       "<Figure size 432x288 with 1 Axes>"
      ]
     },
     "metadata": {
      "needs_background": "light",
      "tags": []
     },
     "output_type": "display_data"
    },
    {
     "name": "stdout",
     "output_type": "stream",
     "text": [
      "Person 2\n"
     ]
    },
    {
     "data": {
      "image/png": "[encoded data removed]",
      "text/plain": [
       "<Figure size 432x288 with 1 Axes>"
      ]
     },
     "metadata": {
      "needs_background": "light",
      "tags": []
     },
     "output_type": "display_data"
    },
    {
     "name": "stdout",
     "output_type": "stream",
     "text": [
      "Person 3\n"
     ]
    },
    {
     "data": {
      "image/png": "[encoded data removed]",
      "text/plain": [
       "<Figure size 432x288 with 1 Axes>"
      ]
     },
     "metadata": {
      "needs_background": "light",
      "tags": []
     },
     "output_type": "display_data"
    },
    {
     "name": "stdout",
     "output_type": "stream",
     "text": [
      "Person 4\n"
     ]
    },
    {
     "data": {
      "image/png": "[encoded data removed]",
      "text/plain": [
       "<Figure size 432x288 with 1 Axes>"
      ]
     },
     "metadata": {
      "needs_background": "light",
      "tags": []
     },
     "output_type": "display_data"
    },
    {
     "name": "stdout",
     "output_type": "stream",
     "text": [
      "Person 5\n"
     ]
    },
    {
     "data": {
      "image/png": "[encoded data removed]",
      "text/plain": [
       "<Figure size 432x288 with 1 Axes>"
      ]
     },
     "metadata": {
      "needs_background": "light",
      "tags": []
     },
     "output_type": "display_data"
    },
    {
     "name": "stdout",
     "output_type": "stream",
     "text": [
      "Person 6\n"
     ]
    },
    {
     "data": {
      "image/png": "[encoded data removed]",
      "text/plain": [
       "<Figure size 432x288 with 1 Axes>"
      ]
     },
     "metadata": {
      "needs_background": "light",
      "tags": []
     },
     "output_type": "display_data"
    },
    {
     "name": "stdout",
     "output_type": "stream",
     "text": [
      "Person 7\n"
     ]
    },
    {
     "data": {
      "image/png": "[encoded data removed]",
      "text/plain": [
       "<Figure size 432x288 with 1 Axes>"
      ]
     },
     "metadata": {
      "needs_background": "light",
      "tags": []
     },
     "output_type": "display_data"
    },
    {
     "name": "stdout",
     "output_type": "stream",
     "text": [
      "Person 8\n"
     ]
    },
    {
     "data": {
      "image/png": "[encoded data removed]",
      "text/plain": [
       "<Figure size 432x288 with 1 Axes>"
      ]
     },
     "metadata": {
      "needs_background": "light",
      "tags": []
     },
     "output_type": "display_data"
    }
   ],
   "source": [
    "for i in range(8):\n",
    "  print('Person',i+1)\n",
    "  plot_person_activities(p_count[i])"
   ]
  },
  {
   "cell_type": "code",
   "execution_count": 0,
   "metadata": {
    "colab": {},
    "colab_type": "code",
    "id": "519l8xhBMHRv"
   },
   "outputs": [],
   "source": [
    "#Plot for each variable\n",
    "def plot_person(person):\n",
    "    plt.figure()\n",
    "    c = 1\n",
    "    # create a plot for each column\n",
    "    for col in list(person.columns):\n",
    "      plt.subplot(person.shape[1], 1,c)\n",
    "      plt.plot(person.loc[:,col])\n",
    "      c=c+1\n",
    "    plt.show()"
   ]
  },
  {
   "cell_type": "code",
   "execution_count": 0,
   "metadata": {
    "colab": {
     "base_uri": "https://localhost:8080/",
     "height": 1000
    },
    "colab_type": "code",
    "executionInfo": {
     "elapsed": 13556,
     "status": "ok",
     "timestamp": 1589461926313,
     "user": {
      "displayName": "BELEN PULIDO BRAVO",
      "photoUrl": "",
      "userId": "09868762370980769562"
     },
     "user_tz": -120
    },
    "id": "cMT26SMOMsnS",
    "outputId": "1df702e5-235a-4c10-9a74-1ce0956ad79e"
   },
   "outputs": [
    {
     "name": "stdout",
     "output_type": "stream",
     "text": [
      "Person 1\n"
     ]
    },
    {
     "data": {
      "image/png": "[encoded data removed]",
      "text/plain": [
       "<Figure size 432x288 with 6 Axes>"
      ]
     },
     "metadata": {
      "needs_background": "light",
      "tags": []
     },
     "output_type": "display_data"
    },
    {
     "name": "stdout",
     "output_type": "stream",
     "text": [
      "Person 2\n"
     ]
    },
    {
     "data": {
      "image/png": "[encoded data removed]",
      "text/plain": [
       "<Figure size 432x288 with 6 Axes>"
      ]
     },
     "metadata": {
      "needs_background": "light",
      "tags": []
     },
     "output_type": "display_data"
    },
    {
     "name": "stdout",
     "output_type": "stream",
     "text": [
      "Person 3\n"
     ]
    },
    {
     "data": {
      "image/png": "[encoded data removed]",
      "text/plain": [
       "<Figure size 432x288 with 6 Axes>"
      ]
     },
     "metadata": {
      "needs_background": "light",
      "tags": []
     },
     "output_type": "display_data"
    },
    {
     "name": "stdout",
     "output_type": "stream",
     "text": [
      "Person 4\n"
     ]
    },
    {
     "data": {
      "image/png": "[encoded data removed]",
      "text/plain": [
       "<Figure size 432x288 with 6 Axes>"
      ]
     },
     "metadata": {
      "needs_background": "light",
      "tags": []
     },
     "output_type": "display_data"
    },
    {
     "name": "stdout",
     "output_type": "stream",
     "text": [
      "Person 5\n"
     ]
    },
    {
     "data": {
      "image/png": "[encoded data removed]",
      "text/plain": [
       "<Figure size 432x288 with 6 Axes>"
      ]
     },
     "metadata": {
      "needs_background": "light",
      "tags": []
     },
     "output_type": "display_data"
    },
    {
     "name": "stdout",
     "output_type": "stream",
     "text": [
      "Person 6\n"
     ]
    },
    {
     "data": {
      "image/png": "[encoded data removed]",
      "text/plain": [
       "<Figure size 432x288 with 6 Axes>"
      ]
     },
     "metadata": {
      "needs_background": "light",
      "tags": []
     },
     "output_type": "display_data"
    },
    {
     "name": "stdout",
     "output_type": "stream",
     "text": [
      "Person 7\n"
     ]
    },
    {
     "data": {
      "image/png": "[encoded data removed]",
      "text/plain": [
       "<Figure size 432x288 with 6 Axes>"
      ]
     },
     "metadata": {
      "needs_background": "light",
      "tags": []
     },
     "output_type": "display_data"
    },
    {
     "name": "stdout",
     "output_type": "stream",
     "text": [
      "Person 8\n"
     ]
    },
    {
     "data": {
      "image/png": "[encoded data removed]",
      "text/plain": [
       "<Figure size 432x288 with 6 Axes>"
      ]
     },
     "metadata": {
      "needs_background": "light",
      "tags": []
     },
     "output_type": "display_data"
    }
   ],
   "source": [
    "#Plot for each variable for each person\n",
    "for i in range(1,9):\n",
    "  print('Person', i)\n",
    "  plot_person(df.loc[i])"
   ]
  },
  {
   "cell_type": "markdown",
   "metadata": {
    "colab_type": "text",
    "id": "RiTqkbAexoIN"
   },
   "source": [
    "## Signal Segmentation"
   ]
  },
  {
   "cell_type": "markdown",
   "metadata": {},
   "source": [
    "Learn or predict from a continuous flow of data is a difficult task and can face to some tricky\n",
    "issues. A reasonable solution to this would be grouping single observations and working with a bunch\n",
    "of instances instead of with single ones. This is what segmentation is based on.\n",
    "\n",
    "Thus, data had been split into windows. In our case, we have set 16 observations per window, which corresponded to 1 second of the signal, with an overlapping of 50% between them. For testing data, any overlapping had been introduced in order to assign the predicted label to the corresponding instance.\n",
    "\n",
    "The activity assigned to each window corresponded to the most repeated value, i.e., the mode of the labels of that window data. In the end, a three dimensional array [number of windows, number of instances, number of signal components] had been obtained."
   ]
  },
  {
   "cell_type": "code",
   "execution_count": 0,
   "metadata": {
    "colab": {},
    "colab_type": "code",
    "id": "rlRgGBpbxnK1"
   },
   "outputs": [],
   "source": [
    "def windows(data,size,mode):\n",
    "\n",
    "    if mode == 'train':\n",
    "        start = 0\n",
    "        while start < len(data):\n",
    "            if(start+size < len(data)):\n",
    "              yield int(start), int(start + size)\n",
    "            \n",
    "            #elif(start+size/2 <= len(data)):\n",
    "            # yield int(start), int(len(data))\n",
    "            start += (size / 2)\n",
    "\n",
    "    if mode =='test':\n",
    "        start = 0\n",
    "        while start < len(data):\n",
    "            if(start+size < len(data)):\n",
    "              yield int(start), int(start + size)\n",
    "            \n",
    "            #elif(start+size/2 <= len(data)):\n",
    "            # yield int(start), int(len(data))\n",
    "            start += size"
   ]
  },
  {
   "cell_type": "code",
   "execution_count": 0,
   "metadata": {
    "colab": {},
    "colab_type": "code",
    "id": "-xOKtwQ60sfX"
   },
   "outputs": [],
   "source": [
    "window_size = 16"
   ]
  },
  {
   "cell_type": "code",
   "execution_count": 0,
   "metadata": {
    "colab": {},
    "colab_type": "code",
    "id": "ZqwQcQFH2pD2"
   },
   "outputs": [],
   "source": [
    "from scipy import stats\n",
    "\n",
    "#16 rows implies 1 second\n",
    "\n",
    "def segment_signal(data,window_size = window_size):\n",
    "\n",
    "    segments = np.empty((0,window_size,5))\n",
    "\n",
    "    labels = np.empty((0))\n",
    "\n",
    "    for (start, end) in windows(range(data.shape[0]), window_size,'train'):\n",
    "\n",
    "        #if(start+window_size<data.shape[0]):\n",
    "        acc_z = data[\"acc_z\"][start:end]\n",
    "        acc_xy = data[\"acc_xy\"][start:end]\n",
    "        gyro_x = data[\"gyro_x\"][start:end]\n",
    "        gyro_y = data[\"gyro_y\"][start:end]\n",
    "        gyro_z = data[\"gyro_z\"][start:end]\n",
    "\n",
    "        segments = np.vstack([segments,np.dstack([acc_z,acc_xy,gyro_x,gyro_y,gyro_z])])\n",
    "        labels = np.append(labels,stats.mode(data[\"label\"][start:end])[0][0])\n",
    "\n",
    "    return segments, labels"
   ]
  },
  {
   "cell_type": "code",
   "execution_count": 0,
   "metadata": {
    "colab": {},
    "colab_type": "code",
    "id": "DdBGlTW4q5iE"
   },
   "outputs": [],
   "source": [
    "def segment_signal_test(data,window_size = window_size):\n",
    "\n",
    "    segments = np.empty((0,window_size,5))\n",
    "\n",
    "    for (start, end) in windows(range(data.shape[0]), window_size,'test'):\n",
    "\n",
    "        acc_z = data[\"acc_z\"][start:end]\n",
    "        acc_xy = data[\"acc_xy\"][start:end]\n",
    "        gyro_x = data[\"gyro_x\"][start:end]\n",
    "        gyro_y = data[\"gyro_y\"][start:end]\n",
    "        gyro_z = data[\"gyro_z\"][start:end]\n",
    "\n",
    "        segments = np.vstack([segments,np.dstack([acc_z,acc_xy,gyro_x,gyro_y,gyro_z])])\n",
    "\n",
    "    return segments"
   ]
  },
  {
   "cell_type": "code",
   "execution_count": 0,
   "metadata": {
    "colab": {},
    "colab_type": "code",
    "id": "tL0h9B4kbdii"
   },
   "outputs": [],
   "source": [
    "# Changing categories from 1 - 5 to  0 - 4\n",
    "\n",
    "df[\"label\"] = df[\"label\"] - 1"
   ]
  },
  {
   "cell_type": "code",
   "execution_count": 0,
   "metadata": {
    "colab": {},
    "colab_type": "code",
    "id": "d0gFWKtj2G7t"
   },
   "outputs": [],
   "source": [
    "data, labels = segment_signal(df)"
   ]
  },
  {
   "cell_type": "code",
   "execution_count": 0,
   "metadata": {
    "colab": {},
    "colab_type": "code",
    "id": "-0iFTfLcROcd"
   },
   "outputs": [],
   "source": [
    "test_data1 = segment_signal_test(df_test.loc[1])\n",
    "test_data2 = segment_signal_test(df_test.loc[2])"
   ]
  },
  {
   "cell_type": "code",
   "execution_count": 0,
   "metadata": {
    "colab": {
     "base_uri": "https://localhost:8080/",
     "height": 50
    },
    "colab_type": "code",
    "executionInfo": {
     "elapsed": 56238,
     "status": "ok",
     "timestamp": 1589461969169,
     "user": {
      "displayName": "BELEN PULIDO BRAVO",
      "photoUrl": "",
      "userId": "09868762370980769562"
     },
     "user_tz": -120
    },
    "id": "uHfrinhxZTKF",
    "outputId": "2c3df154-7f4e-48da-cbed-c3e1b02a7dac"
   },
   "outputs": [
    {
     "name": "stdout",
     "output_type": "stream",
     "text": [
      "(1223, 16, 5)\n",
      "(1413, 16, 5)\n"
     ]
    }
   ],
   "source": [
    "print(test_data1.shape)\n",
    "print(test_data2.shape)"
   ]
  },
  {
   "cell_type": "markdown",
   "metadata": {
    "colab_type": "text",
    "id": "xf0p7jMTcL--"
   },
   "source": [
    "## Feature extraction\n",
    "\n"
   ]
  },
  {
   "cell_type": "markdown",
   "metadata": {},
   "source": [
    "The purpose of this step was to catch the main characteristics of each segment so our classification algorithm was able to learn from representative and reliable attributes. From each window, the following features had been extracted from each original components to obtain explanatory information of the data: mean, root mean squared value, standard deviation, kurtosis, skewness and correlation between each signal component. This way, the new feature tensor obtained was a 3-dimensional array with dimensions [number of windows, number of extracted features, number of signal components]."
   ]
  },
  {
   "cell_type": "code",
   "execution_count": 0,
   "metadata": {
    "colab": {},
    "colab_type": "code",
    "id": "cL_8gUpeob4w"
   },
   "outputs": [],
   "source": [
    "import math\n",
    "\n",
    "#root mean squared value\n",
    "def rms(arr):\n",
    "  square = 0\n",
    "  for i in range(len(arr)):\n",
    "    square += (arr[i])**2\n",
    "  return (math.sqrt(square/len(arr)))\n",
    "48\n",
    "def extract_rmsv(data):\n",
    "  rmsv = []\n",
    "  for i in range(data.shape[0]):\n",
    "    acc_z = []\n",
    "    acc_xy = []\n",
    "    gyro_x = []\n",
    "    gyro_y = []\n",
    "    gyro_z = []\n",
    "    for j in range(data.shape[1]):\n",
    "      acc_z.append(data[i][j][0])\n",
    "      acc_xy.append(data[i][j][1])\n",
    "      gyro_x.append(data[i][j][2])\n",
    "      gyro_y.append(data[i][j][3])\n",
    "      gyro_z.append(data[i][j][4])\n",
    "    \n",
    "    rmsv_wind = [rms(acc_z),rms(acc_xy),rms(gyro_x),rms(gyro_y),rms(gyro_z)]\n",
    "    rmsv.append(rmsv_wind)\n",
    "  rmsv = np.array(rmsv)\n",
    "  return(rmsv)"
   ]
  },
  {
   "cell_type": "code",
   "execution_count": 0,
   "metadata": {
    "colab": {},
    "colab_type": "code",
    "id": "DKdPGizKtaoY"
   },
   "outputs": [],
   "source": [
    "def extract_features(data):\n",
    "\n",
    "    mean = np.mean(data,axis=1).reshape(data.shape[0],1,5)\n",
    "\n",
    "    std = np.std(data,axis=1).reshape(data.shape[0],1,5)\n",
    "\n",
    "    kts = stats.kurtosis(data,axis=1).reshape(data.shape[0],1,5)\n",
    "\n",
    "    sk = stats.skew(data,axis=1).reshape(data.shape[0],1,5)\n",
    "\n",
    "    rmsv = extract_rmsv(data).reshape(data.shape[0],1,5)\n",
    "\n",
    "    # Bucle para sacar el array de dimensiones (n_ventanas,n_correlaciones=4,n_variables=5).\n",
    "\n",
    "    # Eliminaremos los elementos de la diagonal de la matriz de correlación puesto que son 1 por definición.\n",
    "\n",
    "    for i in range(data.shape[0]):\n",
    "\n",
    "        df = pd.DataFrame(data=data[i])\n",
    "        corr_df = df.corr(method='pearson')\n",
    "        corr_np = corr_df.to_numpy()\n",
    "        cols = []\n",
    "\n",
    "        for j in range(5):\n",
    "\n",
    "            cols.append(corr_np[ :,j])\n",
    "        \n",
    "        # Eliminamos los elementos de la diagonal.\n",
    "\n",
    "        cols[0] = np.delete(cols[0],0).reshape(4,1)\n",
    "        cols[1] = np.delete(cols[1],1).reshape(4,1)\n",
    "        cols[2] = np.delete(cols[2],2).reshape(4,1)\n",
    "        cols[3] = np.delete(cols[3],3).reshape(4,1)\n",
    "        cols[4] = np.delete(cols[4],4).reshape(4,1)\n",
    "\n",
    "        # Obtenemos la matriz de correlación sin los elementos de la diagonal.\n",
    "\n",
    "        corr_window = np.hstack((cols[0],cols[1],cols[2],cols[3],cols[4]))\n",
    "\n",
    "        if i ==0:\n",
    "\n",
    "            corr = corr_window.reshape(1,4,5)\n",
    "\n",
    "        else:\n",
    "\n",
    "            corr_window = corr_window.reshape(1,4,5)\n",
    "\n",
    "            # Apilamos las matrices de correlación para cada ventana en una nueva dimensión.\n",
    "\n",
    "            corr = np.vstack((corr,corr_window))\n",
    "        \n",
    "    # Obtenemos la matriz de features, de dimensión (n_ventanas,n_features,n_variables) apilando media, std, skewness, kurtosis y correlación en la primera dimensión (de las ventanas).\n",
    " \n",
    "    features = np.concatenate((mean,rmsv,std,kts,sk,corr),axis=1)\n",
    "\n",
    "    return features"
   ]
  },
  {
   "cell_type": "code",
   "execution_count": 0,
   "metadata": {
    "colab": {},
    "colab_type": "code",
    "id": "lufWcJxso9DQ"
   },
   "outputs": [],
   "source": [
    "data = extract_features(data)\n",
    "\n",
    "n = int(data.shape[0]*0.75) #split index\n",
    "\n",
    "test_data1 = extract_features(test_data1)\n",
    "\n",
    "test_data2 = extract_features(test_data2)"
   ]
  },
  {
   "cell_type": "code",
   "execution_count": 0,
   "metadata": {
    "colab": {
     "base_uri": "https://localhost:8080/",
     "height": 66
    },
    "colab_type": "code",
    "executionInfo": {
     "elapsed": 78373,
     "status": "ok",
     "timestamp": 1589461991403,
     "user": {
      "displayName": "BELEN PULIDO BRAVO",
      "photoUrl": "",
      "userId": "09868762370980769562"
     },
     "user_tz": -120
    },
    "id": "FeU3kPbWZppE",
    "outputId": "e99324eb-4813-4446-d8a5-060c00a47780"
   },
   "outputs": [
    {
     "name": "stdout",
     "output_type": "stream",
     "text": [
      "(17677, 9, 5)\n",
      "(1223, 9, 5)\n",
      "(1413, 9, 5)\n"
     ]
    }
   ],
   "source": [
    "print(data.shape)\n",
    "print(test_data1.shape)\n",
    "print(test_data2.shape)"
   ]
  },
  {
   "cell_type": "markdown",
   "metadata": {
    "colab_type": "text",
    "id": "u2OmRkpB_7Ds"
   },
   "source": [
    "## CNN model"
   ]
  },
  {
   "cell_type": "markdown",
   "metadata": {},
   "source": [
    "The final part of the project is the classification or recognition stage. In particular, the\n",
    "classification algorithm we have implemented is a CNN, for which we used Pytorch. Specifically, the neural network is composed by a convolutional layer, a maxpool stage and three dense layers, each one followed by a non-linear activation function. The network took as inputs the windows grouped in batches. Batch size has been set to 32. Regarding convolutional layer, it was fixed to receive an input with 1 channel, using a convolving kernel of size (2,2) and giving as output an 8 channel array. Then, maxpooling carried out a max over on each (2,2) square. Following, three dense layers separated by non-linear functions performed linear operations. First, two activation functions were rectified functions and the last one was a logsoftmax, which received a final 5 dimensional array for each window and computed the probabilities for each window to belong to each class. This way, we started with a [batch_size, 1, n_features, n_components] array and we get a [batch_size, nlabels] matrix. The model was trained with data corresponding to 6 people and validated with the remaining\n",
    "two. Also, during this training stage, an analysis of the cross validation loss during the epochs\n",
    "was accomplished in order to control overfitting and got the optimal number of training epochs. "
   ]
  },
  {
   "cell_type": "code",
   "execution_count": 0,
   "metadata": {
    "colab": {},
    "colab_type": "code",
    "id": "VZMmh3I8_8qb"
   },
   "outputs": [],
   "source": [
    "import torch\n",
    "from torch import nn\n",
    "from torch import optim"
   ]
  },
  {
   "cell_type": "code",
   "execution_count": 0,
   "metadata": {
    "colab": {},
    "colab_type": "code",
    "id": "OV8Py1nk51b2"
   },
   "outputs": [],
   "source": [
    "data = torch.from_numpy(data).float()\n",
    "labels = torch.from_numpy(labels).float()\n",
    "test_data1 = torch.from_numpy(test_data1).float()\n",
    "test_data2 = torch.from_numpy(test_data2).float()"
   ]
  },
  {
   "cell_type": "code",
   "execution_count": 0,
   "metadata": {
    "colab": {},
    "colab_type": "code",
    "id": "HM3eKDdq7lFy"
   },
   "outputs": [],
   "source": [
    "train_data = data[0:n]\n",
    "train_labels = labels[0:n]\n",
    "\n",
    "valid_data = data[n:]\n",
    "valid_labels = labels[n:]"
   ]
  },
  {
   "cell_type": "code",
   "execution_count": 0,
   "metadata": {
    "colab": {
     "base_uri": "https://localhost:8080/",
     "height": 33
    },
    "colab_type": "code",
    "executionInfo": {
     "elapsed": 81312,
     "status": "ok",
     "timestamp": 1589461994414,
     "user": {
      "displayName": "BELEN PULIDO BRAVO",
      "photoUrl": "",
      "userId": "09868762370980769562"
     },
     "user_tz": -120
    },
    "id": "Ou0ImGrsj_2C",
    "outputId": "d2849ebe-525d-49af-a940-bc8b90a8bbd8"
   },
   "outputs": [
    {
     "data": {
      "text/plain": [
       "torch.Size([1223, 9, 5])"
      ]
     },
     "execution_count": 36,
     "metadata": {
      "tags": []
     },
     "output_type": "execute_result"
    }
   ],
   "source": [
    "test_data1.shape"
   ]
  },
  {
   "cell_type": "code",
   "execution_count": 0,
   "metadata": {
    "colab": {},
    "colab_type": "code",
    "id": "UKNSI65EQN_s"
   },
   "outputs": [],
   "source": [
    "def batch(data,targets,size):\n",
    "\n",
    "    start = 0\n",
    "\n",
    "    while start < len(data):\n",
    "\n",
    "        if(start+size < len(data)):\n",
    "\n",
    "          yield data[start:(start+size)], targets[start:(start+size)]\n",
    "\n",
    "        start += size"
   ]
  },
  {
   "cell_type": "code",
   "execution_count": 0,
   "metadata": {
    "colab": {},
    "colab_type": "code",
    "id": "8rDaK-cpkqb0"
   },
   "outputs": [],
   "source": [
    "def batch_test(data,size):\n",
    "\n",
    "    start = 0\n",
    "\n",
    "    while start < len(data):\n",
    "\n",
    "        if(start+size <= len(data)):\n",
    "\n",
    "          yield data[start:(start+size)]\n",
    "        \n",
    "        #else:\n",
    "\n",
    "          #yield data[start: ]\n",
    "\n",
    "        start += size"
   ]
  },
  {
   "cell_type": "code",
   "execution_count": 0,
   "metadata": {
    "colab": {},
    "colab_type": "code",
    "id": "p0Reu24-QOHW"
   },
   "outputs": [],
   "source": [
    "class cnn(nn.Module):\n",
    "    def __init__(self,nlabels=5):\n",
    "        super().__init__()\n",
    "\n",
    "        self.nlabels = nlabels\n",
    "\n",
    "        # convolutional layer\n",
    "        self.conv = nn.Conv2d(in_channels=1, out_channels=8, \n",
    "                               kernel_size=2, stride=1, padding=0)\n",
    "        \n",
    "        # Max pool layer\n",
    "        self.pool = nn.MaxPool2d(2,2)\n",
    "\n",
    "        # Spatial dimension of the Tensor at the output of the 2nd CNN\n",
    "        self.final_dim1 = int((9-1)/2)\n",
    "\n",
    "        self.final_dim2 = int((5-1)/2)\n",
    "        \n",
    "        # Linear layers\n",
    "        \n",
    "        self.output1 = nn.Linear(8*self.final_dim1*self.final_dim2,32)\n",
    "\n",
    "        self.output2 = nn.Linear(32,12)\n",
    "\n",
    "        self.output3 = nn.Linear(12,self.nlabels)\n",
    "    \n",
    "        self.relu = nn.ReLU()\n",
    "        \n",
    "        self.logsoftmax = nn.LogSoftmax(dim=1) \n",
    "        \n",
    "\n",
    "        \n",
    "    def forward(self, x):\n",
    "\n",
    "        x = self.conv(x) \n",
    "        x = self.relu(x) \n",
    "\n",
    "        x = self.pool(x)\n",
    "\n",
    "        # Flatten the tensor into a vector\n",
    "        x = x.view(-1, 8 * self.final_dim1 * self.final_dim2)\n",
    "        # Pass the tensor through the Dense Layers\n",
    "        \n",
    "\n",
    "        x = self.output1(x)\n",
    "        x = self.relu(x)\n",
    "\n",
    "        x = self.output2(x)\n",
    "        x = self.relu(x)\n",
    "        \n",
    "        x = self.output3(x)\n",
    "        x = self.logsoftmax(x)\n",
    "        \n",
    "        return x\n"
   ]
  },
  {
   "cell_type": "code",
   "execution_count": 0,
   "metadata": {
    "colab": {},
    "colab_type": "code",
    "id": "ORRbVgceQOJ9"
   },
   "outputs": [],
   "source": [
    "class cnn_extended(cnn):\n",
    "    \n",
    "    def __init__(self,nlabels=5,epochs=200,lr=0.001,batch_size=32):\n",
    "        \n",
    "        super().__init__(nlabels)\n",
    "\n",
    "        self.epochs = epochs\n",
    "\n",
    "        self.lr = lr\n",
    "\n",
    "        self.batch_size = batch_size\n",
    "\n",
    "        self.optim = optim.Adam(self.parameters(), self.lr)\n",
    "\n",
    "        self.criterion = nn.NLLLoss()\n",
    "\n",
    "        self.loss_during_training = []\n",
    "\n",
    "        self.valid_loss_during_training =[]\n",
    "        \n",
    "    def trainloop(self,train_data,train_labels,valid_data,valid_labels):\n",
    "        \n",
    "        for e in range(int(self.epochs)):\n",
    "\n",
    "            running_loss = 0.\n",
    "\n",
    "            counter = 0\n",
    "\n",
    "            for data,targets in batch(train_data,train_labels,self.batch_size):\n",
    "\n",
    "                self.optim.zero_grad()\n",
    "\n",
    "                data = data.view(self.batch_size,1,9,5)\n",
    "\n",
    "                out = self.forward(data)\n",
    "\n",
    "                loss = self.criterion(out,targets.long())\n",
    "\n",
    "                running_loss += loss.item()\n",
    "\n",
    "                loss.backward()\n",
    "\n",
    "                self.optim.step()\n",
    "\n",
    "                counter += 1\n",
    "\n",
    "            self.loss_during_training.append(running_loss/counter)\n",
    "\n",
    "            with torch.no_grad():\n",
    "\n",
    "                running_loss = 0.\n",
    "\n",
    "                counter = 0\n",
    "\n",
    "                for data, targets in batch(valid_data,valid_labels,self.batch_size):\n",
    "\n",
    "                    data = data.view(self.batch_size,1,9,5)\n",
    "\n",
    "                    out = self.forward(data)\n",
    "\n",
    "                    loss = self.criterion(out,targets.long())\n",
    "\n",
    "                    running_loss += loss.item()\n",
    "\n",
    "                    counter += 1\n",
    "\n",
    "                self.valid_loss_during_training.append(running_loss/counter)\n",
    "\n",
    "                print(\"Epoch %d. Training loss: %f, Validation loss: %f\" \n",
    "                      %(e,self.loss_during_training[-1],self.valid_loss_during_training[-1]))\n",
    "                \n",
    "    def final_trainloop(self,train_data,train_labels):\n",
    "        \n",
    "        for e in range(int(self.epochs)):\n",
    "\n",
    "            running_loss = 0.\n",
    "\n",
    "            counter = 0\n",
    "\n",
    "            for data,targets in batch(train_data,train_labels,self.batch_size):\n",
    "\n",
    "                self.optim.zero_grad()\n",
    "\n",
    "                data = data.view(self.batch_size,1,9,5)\n",
    "\n",
    "                out = self.forward(data)\n",
    "\n",
    "                loss = self.criterion(out,targets.long())\n",
    "\n",
    "                running_loss += loss.item()\n",
    "\n",
    "                loss.backward()\n",
    "\n",
    "                self.optim.step()\n",
    "\n",
    "                counter += 1\n",
    "\n",
    "            self.loss_during_training.append(running_loss/counter)\n",
    "\n",
    "            print(\"Epoch %d. Training loss: %f\" \n",
    "                      %(e,self.loss_during_training[-1]))\n",
    "\n",
    "    def eval_performance(self,dataset,labels):\n",
    "        \n",
    "        loss = 0\n",
    "\n",
    "        accuracy = 0\n",
    "\n",
    "        counter = 0\n",
    "\n",
    "        with torch.no_grad():\n",
    "        \n",
    "            for data, targets in batch(dataset,labels,self.batch_size):\n",
    "\n",
    "                data = data.view(self.batch_size,1,9,5)\n",
    "\n",
    "                probs = self.forward(data)\n",
    "\n",
    "                top_p, top_class = probs.topk(1,dim=1)\n",
    "\n",
    "                equals = (top_class == targets.view(data.shape[0],1))\n",
    "\n",
    "                accuracy += torch.mean(equals.type(torch.FloatTensor))\n",
    "\n",
    "                counter += 1\n",
    "\n",
    "            return accuracy/counter\n",
    "\n",
    "    def predict(self,dataset):\n",
    "\n",
    "        counter = 0\n",
    "\n",
    "        with torch.no_grad():\n",
    "        \n",
    "            for data in batch_test(dataset,1):\n",
    "\n",
    "                data = data.view(data.shape[0],1,9,5)\n",
    "\n",
    "                probs = self.forward(data)\n",
    "\n",
    "                top_p, top_class = probs.topk(1,dim=1)\n",
    "\n",
    "                # top_class = torch.squeeze(top_class)\n",
    "\n",
    "                if counter == 0:\n",
    "\n",
    "                    predictions = top_class\n",
    "                \n",
    "                else:\n",
    "\n",
    "                    predictions = torch.cat((predictions,top_class),0)\n",
    "\n",
    "                counter += 1\n",
    "\n",
    "            return predictions\n",
    "    "
   ]
  },
  {
   "cell_type": "code",
   "execution_count": 0,
   "metadata": {
    "colab": {
     "base_uri": "https://localhost:8080/",
     "height": 1000
    },
    "colab_type": "code",
    "executionInfo": {
     "elapsed": 255736,
     "status": "ok",
     "timestamp": 1589462168962,
     "user": {
      "displayName": "BELEN PULIDO BRAVO",
      "photoUrl": "",
      "userId": "09868762370980769562"
     },
     "user_tz": -120
    },
    "id": "-kEd4N_oQOMt",
    "outputId": "055427d5-2617-44c8-e934-3dd99bf5cea6"
   },
   "outputs": [
    {
     "name": "stdout",
     "output_type": "stream",
     "text": [
      "Epoch 0. Training loss: 1.136004, Validation loss: 0.734839\n",
      "Epoch 1. Training loss: 0.681293, Validation loss: 0.396129\n",
      "Epoch 2. Training loss: 0.463484, Validation loss: 0.270262\n",
      "Epoch 3. Training loss: 0.363594, Validation loss: 0.197135\n",
      "Epoch 4. Training loss: 0.303765, Validation loss: 0.192894\n",
      "Epoch 5. Training loss: 0.258849, Validation loss: 0.166492\n",
      "Epoch 6. Training loss: 0.229986, Validation loss: 0.165563\n",
      "Epoch 7. Training loss: 0.221825, Validation loss: 0.168120\n",
      "Epoch 8. Training loss: 0.214074, Validation loss: 0.170090\n",
      "Epoch 9. Training loss: 0.208538, Validation loss: 0.172623\n",
      "Epoch 10. Training loss: 0.203403, Validation loss: 0.174366\n",
      "Epoch 11. Training loss: 0.201479, Validation loss: 0.180329\n",
      "Epoch 12. Training loss: 0.196238, Validation loss: 0.185248\n",
      "Epoch 13. Training loss: 0.195079, Validation loss: 0.191502\n",
      "Epoch 14. Training loss: 0.191694, Validation loss: 0.193886\n",
      "Epoch 15. Training loss: 0.188813, Validation loss: 0.190397\n",
      "Epoch 16. Training loss: 0.188518, Validation loss: 0.190252\n",
      "Epoch 17. Training loss: 0.184886, Validation loss: 0.190243\n",
      "Epoch 18. Training loss: 0.182758, Validation loss: 0.182865\n",
      "Epoch 19. Training loss: 0.192715, Validation loss: 0.168959\n",
      "Epoch 20. Training loss: 0.179735, Validation loss: 0.176097\n",
      "Epoch 21. Training loss: 0.176598, Validation loss: 0.172936\n",
      "Epoch 22. Training loss: 0.173912, Validation loss: 0.159303\n",
      "Epoch 23. Training loss: 0.171622, Validation loss: 0.152785\n",
      "Epoch 24. Training loss: 0.180079, Validation loss: 0.139791\n",
      "Epoch 25. Training loss: 0.171402, Validation loss: 0.151943\n",
      "Epoch 26. Training loss: 0.168598, Validation loss: 0.145956\n",
      "Epoch 27. Training loss: 0.166442, Validation loss: 0.134606\n",
      "Epoch 28. Training loss: 0.163690, Validation loss: 0.127228\n",
      "Epoch 29. Training loss: 0.166506, Validation loss: 0.129188\n",
      "Epoch 30. Training loss: 0.165272, Validation loss: 0.139387\n",
      "Epoch 31. Training loss: 0.165333, Validation loss: 0.143458\n",
      "Epoch 32. Training loss: 0.161814, Validation loss: 0.123703\n",
      "Epoch 33. Training loss: 0.165772, Validation loss: 0.137258\n",
      "Epoch 34. Training loss: 0.181856, Validation loss: 0.113705\n",
      "Epoch 35. Training loss: 0.164573, Validation loss: 0.145550\n",
      "Epoch 36. Training loss: 0.157218, Validation loss: 0.123425\n",
      "Epoch 37. Training loss: 0.152237, Validation loss: 0.121941\n",
      "Epoch 38. Training loss: 0.154097, Validation loss: 0.128109\n",
      "Epoch 39. Training loss: 0.150745, Validation loss: 0.119274\n",
      "Epoch 40. Training loss: 0.149741, Validation loss: 0.127627\n",
      "Epoch 41. Training loss: 0.146965, Validation loss: 0.122680\n",
      "Epoch 42. Training loss: 0.143172, Validation loss: 0.122547\n",
      "Epoch 43. Training loss: 0.143008, Validation loss: 0.131244\n",
      "Epoch 44. Training loss: 0.141158, Validation loss: 0.126596\n",
      "Epoch 45. Training loss: 0.139626, Validation loss: 0.134247\n",
      "Epoch 46. Training loss: 0.138797, Validation loss: 0.130000\n",
      "Epoch 47. Training loss: 0.139293, Validation loss: 0.134641\n",
      "Epoch 48. Training loss: 0.135856, Validation loss: 0.132250\n",
      "Epoch 49. Training loss: 0.135496, Validation loss: 0.134572\n",
      "Epoch 50. Training loss: 0.134920, Validation loss: 0.134234\n",
      "Epoch 51. Training loss: 0.132983, Validation loss: 0.135827\n",
      "Epoch 52. Training loss: 0.130533, Validation loss: 0.129550\n",
      "Epoch 53. Training loss: 0.132317, Validation loss: 0.136425\n",
      "Epoch 54. Training loss: 0.128357, Validation loss: 0.130983\n",
      "Epoch 55. Training loss: 0.128879, Validation loss: 0.143586\n",
      "Epoch 56. Training loss: 0.129482, Validation loss: 0.126512\n",
      "Epoch 57. Training loss: 0.123929, Validation loss: 0.129119\n",
      "Epoch 58. Training loss: 0.124019, Validation loss: 0.141604\n",
      "Epoch 59. Training loss: 0.122967, Validation loss: 0.125023\n",
      "Epoch 60. Training loss: 0.122299, Validation loss: 0.149157\n",
      "Epoch 61. Training loss: 0.123740, Validation loss: 0.124718\n",
      "Epoch 62. Training loss: 0.125447, Validation loss: 0.129913\n",
      "Epoch 63. Training loss: 0.119302, Validation loss: 0.122943\n",
      "Epoch 64. Training loss: 0.121852, Validation loss: 0.118546\n",
      "Epoch 65. Training loss: 0.117152, Validation loss: 0.114463\n",
      "Epoch 66. Training loss: 0.118295, Validation loss: 0.113010\n",
      "Epoch 67. Training loss: 0.114445, Validation loss: 0.115159\n",
      "Epoch 68. Training loss: 0.114769, Validation loss: 0.114630\n",
      "Epoch 69. Training loss: 0.113284, Validation loss: 0.103613\n",
      "Epoch 70. Training loss: 0.112785, Validation loss: 0.100456\n",
      "Epoch 71. Training loss: 0.111743, Validation loss: 0.098817\n",
      "Epoch 72. Training loss: 0.110467, Validation loss: 0.095804\n",
      "Epoch 73. Training loss: 0.105777, Validation loss: 0.090711\n",
      "Epoch 74. Training loss: 0.106595, Validation loss: 0.092308\n",
      "Epoch 75. Training loss: 0.103354, Validation loss: 0.091719\n",
      "Epoch 76. Training loss: 0.103780, Validation loss: 0.099384\n",
      "Epoch 77. Training loss: 0.099806, Validation loss: 0.094480\n",
      "Epoch 78. Training loss: 0.104014, Validation loss: 0.095086\n",
      "Epoch 79. Training loss: 0.099712, Validation loss: 0.093045\n",
      "Epoch 80. Training loss: 0.097428, Validation loss: 0.096602\n",
      "Epoch 81. Training loss: 0.094927, Validation loss: 0.110183\n",
      "Epoch 82. Training loss: 0.093870, Validation loss: 0.104061\n",
      "Epoch 83. Training loss: 0.092408, Validation loss: 0.132982\n",
      "Epoch 84. Training loss: 0.097358, Validation loss: 0.094303\n",
      "Epoch 85. Training loss: 0.091618, Validation loss: 0.114726\n",
      "Epoch 86. Training loss: 0.089424, Validation loss: 0.169461\n",
      "Epoch 87. Training loss: 0.098348, Validation loss: 0.095194\n",
      "Epoch 88. Training loss: 0.091065, Validation loss: 0.117573\n",
      "Epoch 89. Training loss: 0.089084, Validation loss: 0.182122\n",
      "Epoch 90. Training loss: 0.097202, Validation loss: 0.092354\n",
      "Epoch 91. Training loss: 0.087648, Validation loss: 0.172658\n",
      "Epoch 92. Training loss: 0.095516, Validation loss: 0.092354\n",
      "Epoch 93. Training loss: 0.083599, Validation loss: 0.161318\n",
      "Epoch 94. Training loss: 0.086359, Validation loss: 0.102685\n",
      "Epoch 95. Training loss: 0.081200, Validation loss: 0.143464\n",
      "Epoch 96. Training loss: 0.083374, Validation loss: 0.151660\n",
      "Epoch 97. Training loss: 0.082615, Validation loss: 0.107189\n",
      "Epoch 98. Training loss: 0.078377, Validation loss: 0.128529\n",
      "Epoch 99. Training loss: 0.079354, Validation loss: 0.151978\n",
      "Epoch 100. Training loss: 0.215181, Validation loss: 0.174773\n",
      "Epoch 101. Training loss: 0.112048, Validation loss: 0.138497\n",
      "Epoch 102. Training loss: 0.105532, Validation loss: 0.149850\n",
      "Epoch 103. Training loss: 0.099048, Validation loss: 0.146542\n",
      "Epoch 104. Training loss: 0.090133, Validation loss: 0.139564\n",
      "Epoch 105. Training loss: 0.083450, Validation loss: 0.140924\n",
      "Epoch 106. Training loss: 0.081172, Validation loss: 0.135210\n",
      "Epoch 107. Training loss: 0.078366, Validation loss: 0.127960\n",
      "Epoch 108. Training loss: 0.077311, Validation loss: 0.126673\n",
      "Epoch 109. Training loss: 0.075548, Validation loss: 0.142934\n",
      "Epoch 110. Training loss: 0.076627, Validation loss: 0.195720\n",
      "Epoch 111. Training loss: 0.077407, Validation loss: 0.118999\n",
      "Epoch 112. Training loss: 0.070769, Validation loss: 0.111315\n",
      "Epoch 113. Training loss: 0.073119, Validation loss: 0.199612\n",
      "Epoch 114. Training loss: 0.087504, Validation loss: 0.103858\n",
      "Epoch 115. Training loss: 0.077154, Validation loss: 0.189239\n",
      "Epoch 116. Training loss: 0.073457, Validation loss: 0.105292\n",
      "Epoch 117. Training loss: 0.067086, Validation loss: 0.096714\n",
      "Epoch 118. Training loss: 0.066214, Validation loss: 0.104513\n",
      "Epoch 119. Training loss: 0.069574, Validation loss: 0.102647\n",
      "Epoch 120. Training loss: 0.065445, Validation loss: 0.100651\n",
      "Epoch 121. Training loss: 0.067584, Validation loss: 0.133705\n",
      "Epoch 122. Training loss: 0.066508, Validation loss: 0.191178\n",
      "Epoch 123. Training loss: 0.068457, Validation loss: 0.123881\n",
      "Epoch 124. Training loss: 0.064597, Validation loss: 0.185246\n",
      "Epoch 125. Training loss: 0.069293, Validation loss: 0.111601\n",
      "Epoch 126. Training loss: 0.066598, Validation loss: 0.168690\n",
      "Epoch 127. Training loss: 0.066800, Validation loss: 0.111098\n",
      "Epoch 128. Training loss: 0.064538, Validation loss: 0.128637\n",
      "Epoch 129. Training loss: 0.060047, Validation loss: 0.127363\n",
      "Epoch 130. Training loss: 0.059864, Validation loss: 0.143160\n",
      "Epoch 131. Training loss: 0.059913, Validation loss: 0.223155\n",
      "Epoch 132. Training loss: 0.066463, Validation loss: 0.250896\n",
      "Epoch 133. Training loss: 0.297758, Validation loss: 0.214907\n",
      "Epoch 134. Training loss: 0.111914, Validation loss: 0.131337\n",
      "Epoch 135. Training loss: 0.090763, Validation loss: 0.102481\n",
      "Epoch 136. Training loss: 0.076881, Validation loss: 0.093838\n",
      "Epoch 137. Training loss: 0.067371, Validation loss: 0.103122\n",
      "Epoch 138. Training loss: 0.062239, Validation loss: 0.101911\n",
      "Epoch 139. Training loss: 0.064576, Validation loss: 0.229253\n",
      "Epoch 140. Training loss: 0.064895, Validation loss: 0.240967\n",
      "Epoch 141. Training loss: 0.063526, Validation loss: 0.268367\n",
      "Epoch 142. Training loss: 0.064764, Validation loss: 0.244130\n",
      "Epoch 143. Training loss: 0.062360, Validation loss: 0.216807\n",
      "Epoch 144. Training loss: 0.059717, Validation loss: 0.122773\n",
      "Epoch 145. Training loss: 0.056108, Validation loss: 0.110620\n",
      "Epoch 146. Training loss: 0.057595, Validation loss: 0.132157\n",
      "Epoch 147. Training loss: 0.058157, Validation loss: 0.110160\n",
      "Epoch 148. Training loss: 0.058103, Validation loss: 0.235581\n",
      "Epoch 149. Training loss: 0.055034, Validation loss: 0.227741\n",
      "Epoch 150. Training loss: 0.053686, Validation loss: 0.158723\n",
      "Epoch 151. Training loss: 0.049855, Validation loss: 0.123979\n",
      "Epoch 152. Training loss: 0.050296, Validation loss: 0.127204\n",
      "Epoch 153. Training loss: 0.053146, Validation loss: 0.133966\n",
      "Epoch 154. Training loss: 0.048476, Validation loss: 0.124490\n",
      "Epoch 155. Training loss: 0.049364, Validation loss: 0.134937\n",
      "Epoch 156. Training loss: 0.051253, Validation loss: 0.139439\n",
      "Epoch 157. Training loss: 0.089141, Validation loss: 0.128580\n",
      "Epoch 158. Training loss: 0.053854, Validation loss: 0.117606\n",
      "Epoch 159. Training loss: 0.045604, Validation loss: 0.116669\n",
      "Epoch 160. Training loss: 0.046954, Validation loss: 0.119814\n",
      "Epoch 161. Training loss: 0.044894, Validation loss: 0.117388\n",
      "Epoch 162. Training loss: 0.049313, Validation loss: 0.233263\n",
      "Epoch 163. Training loss: 0.045018, Validation loss: 0.129561\n",
      "Epoch 164. Training loss: 0.044381, Validation loss: 0.131683\n",
      "Epoch 165. Training loss: 0.045670, Validation loss: 0.154160\n",
      "Epoch 166. Training loss: 0.043477, Validation loss: 0.133605\n",
      "Epoch 167. Training loss: 0.044356, Validation loss: 0.135380\n",
      "Epoch 168. Training loss: 0.045067, Validation loss: 0.195678\n",
      "Epoch 169. Training loss: 0.042737, Validation loss: 0.186300\n",
      "Epoch 170. Training loss: 0.044065, Validation loss: 0.152629\n",
      "Epoch 171. Training loss: 0.040845, Validation loss: 0.165733\n",
      "Epoch 172. Training loss: 0.041166, Validation loss: 0.134776\n",
      "Epoch 173. Training loss: 0.041688, Validation loss: 0.169667\n",
      "Epoch 174. Training loss: 0.043497, Validation loss: 0.195160\n",
      "Epoch 175. Training loss: 0.042184, Validation loss: 0.159078\n",
      "Epoch 176. Training loss: 0.038683, Validation loss: 0.162975\n",
      "Epoch 177. Training loss: 0.052201, Validation loss: 0.143405\n",
      "Epoch 178. Training loss: 0.043894, Validation loss: 0.170616\n",
      "Epoch 179. Training loss: 0.039924, Validation loss: 0.180712\n",
      "Epoch 180. Training loss: 0.068275, Validation loss: 0.120446\n",
      "Epoch 181. Training loss: 0.040980, Validation loss: 0.132152\n",
      "Epoch 182. Training loss: 0.037450, Validation loss: 0.132310\n",
      "Epoch 183. Training loss: 0.038961, Validation loss: 0.146637\n",
      "Epoch 184. Training loss: 0.035807, Validation loss: 0.137068\n",
      "Epoch 185. Training loss: 0.041692, Validation loss: 0.139501\n",
      "Epoch 186. Training loss: 0.040251, Validation loss: 0.137067\n",
      "Epoch 187. Training loss: 0.036392, Validation loss: 0.142456\n",
      "Epoch 188. Training loss: 0.040188, Validation loss: 0.147262\n",
      "Epoch 189. Training loss: 0.038032, Validation loss: 0.163354\n",
      "Epoch 190. Training loss: 0.045942, Validation loss: 0.139696\n",
      "Epoch 191. Training loss: 0.036602, Validation loss: 0.144369\n",
      "Epoch 192. Training loss: 0.035258, Validation loss: 0.159837\n",
      "Epoch 193. Training loss: 0.039411, Validation loss: 0.147097\n",
      "Epoch 194. Training loss: 0.037497, Validation loss: 0.148664\n",
      "Epoch 195. Training loss: 0.033807, Validation loss: 0.146104\n",
      "Epoch 196. Training loss: 0.036211, Validation loss: 0.182279\n",
      "Epoch 197. Training loss: 0.032753, Validation loss: 0.163005\n",
      "Epoch 198. Training loss: 0.034237, Validation loss: 0.188578\n",
      "Epoch 199. Training loss: 0.033735, Validation loss: 0.177719\n"
     ]
    }
   ],
   "source": [
    "my_CNN = cnn_extended()\n",
    "\n",
    "my_CNN.trainloop(train_data,train_labels,valid_data,valid_labels)"
   ]
  },
  {
   "cell_type": "code",
   "execution_count": 0,
   "metadata": {
    "colab": {
     "base_uri": "https://localhost:8080/",
     "height": 50
    },
    "colab_type": "code",
    "executionInfo": {
     "elapsed": 255701,
     "status": "ok",
     "timestamp": 1589462168967,
     "user": {
      "displayName": "BELEN PULIDO BRAVO",
      "photoUrl": "",
      "userId": "09868762370980769562"
     },
     "user_tz": -120
    },
    "id": "nBHXAUZ9S9Tr",
    "outputId": "23847e65-a662-4265-aac6-f18c822f7202"
   },
   "outputs": [
    {
     "name": "stdout",
     "output_type": "stream",
     "text": [
      "Train accuracy 0.986489\n",
      "Validation accuracy 0.967391\n"
     ]
    }
   ],
   "source": [
    "train_performance = my_CNN.eval_performance(train_data,train_labels)\n",
    "\n",
    "valid_performance = my_CNN.eval_performance(valid_data,valid_labels)\n",
    "\n",
    "print(\"Train accuracy %f\" %(train_performance))\n",
    "print(\"Validation accuracy %f\" %(valid_performance))"
   ]
  },
  {
   "cell_type": "code",
   "execution_count": 0,
   "metadata": {
    "colab": {
     "base_uri": "https://localhost:8080/",
     "height": 295
    },
    "colab_type": "code",
    "executionInfo": {
     "elapsed": 256432,
     "status": "ok",
     "timestamp": 1589462169711,
     "user": {
      "displayName": "BELEN PULIDO BRAVO",
      "photoUrl": "",
      "userId": "09868762370980769562"
     },
     "user_tz": -120
    },
    "id": "wpXgAOexUZ1q",
    "outputId": "37feb58a-0136-4b42-b74f-3e9c231d0b56"
   },
   "outputs": [
    {
     "data": {
      "text/plain": [
       "<matplotlib.legend.Legend at 0x7f7262cfb278>"
      ]
     },
     "execution_count": 43,
     "metadata": {
      "tags": []
     },
     "output_type": "execute_result"
    },
    {
     "data": {
      "image/png": "[encoded data removed]",
      "text/plain": [
       "<Figure size 432x288 with 1 Axes>"
      ]
     },
     "metadata": {
      "needs_background": "light",
      "tags": []
     },
     "output_type": "display_data"
    }
   ],
   "source": [
    "plt.plot(my_CNN.loss_during_training,'-b',label='Training Cross Entropy Loss')\n",
    "plt.plot(my_CNN.valid_loss_during_training,'-g',label='Validation Cross Entropy Loss')\n",
    "plt.xlabel('Iterations')\n",
    "plt.ylabel('Loss')\n",
    "plt.legend()"
   ]
  },
  {
   "cell_type": "markdown",
   "metadata": {},
   "source": [
    "As we see, first epochs rapidly make the cross entropy losses decrease. Around 30 epochs, they are almost stabilized, but some small decreases and increases are shown. The key point here is that from 80 epochs, validation loss slowly increases again, while training loss keeps decreasing. This phenomenon is called overfitting: at that point, the neural network stops learning and starts memorizing the training instances, which affects its generalization ability, and the accuracy on the validation test gets worse. Therefore, network is trained again with the number of epochs that minimizes validations loss and considering the joint of training and validation sets, avoiding the overfitting part (early stopping).\n",
    "\n",
    "Thus, 98.65% and 96.73% accuracies have been obtained for training and validation set respectively in the first case. On the other hand, the model with the optimal number of epochs yields a 95.1% of success rate on the train data and a 98.8% on the validation instances. It’s clear that the second case is a superior model and is the one we will use in the remaining tasks.\n",
    "\n",
    "Talking about the obtained success rates,the quality of the results is very high and predictions are extremely accurate. It seems that a convolutional neural network is a right approach to this problem. Thus, a satisfactory human recognition system had been developed. However, we must mention that we were not predicting the activity of each observation itself, but the mode of the activities of 16 observations. Therefore, accuracy would be lower due to the observations in the window that do not have the mode as label. Nevertheless, when analysing the data, we saw that the same activity is performed along a large number of observations, which make sense since normally, a person performs the same activity for at least several seconds. Consequently, a small number of observations are misclassified due to this reason."
   ]
  },
  {
   "cell_type": "code",
   "execution_count": 0,
   "metadata": {
    "colab": {
     "base_uri": "https://localhost:8080/",
     "height": 33
    },
    "colab_type": "code",
    "executionInfo": {
     "elapsed": 256425,
     "status": "ok",
     "timestamp": 1589462169716,
     "user": {
      "displayName": "BELEN PULIDO BRAVO",
      "photoUrl": "",
      "userId": "09868762370980769562"
     },
     "user_tz": -120
    },
    "id": "qVhT2UHrk2Db",
    "outputId": "822a7aae-14ca-42cc-efa2-da34e529c1e5"
   },
   "outputs": [
    {
     "data": {
      "text/plain": [
       "74"
      ]
     },
     "execution_count": 44,
     "metadata": {
      "tags": []
     },
     "output_type": "execute_result"
    }
   ],
   "source": [
    "optim_epochs = my_CNN.valid_loss_during_training.index(min(my_CNN.valid_loss_during_training)) + 1\n",
    "\n",
    "optim_epochs"
   ]
  },
  {
   "cell_type": "markdown",
   "metadata": {
    "colab_type": "text",
    "id": "qoEPpSmSc5I3"
   },
   "source": [
    "Early stopping at  epochs. After that, it starts overfitting.\n"
   ]
  },
  {
   "cell_type": "code",
   "execution_count": 0,
   "metadata": {
    "colab": {
     "base_uri": "https://localhost:8080/",
     "height": 1000
    },
    "colab_type": "code",
    "executionInfo": {
     "elapsed": 81554,
     "status": "ok",
     "timestamp": 1589462260039,
     "user": {
      "displayName": "BELEN PULIDO BRAVO",
      "photoUrl": "",
      "userId": "09868762370980769562"
     },
     "user_tz": -120
    },
    "id": "bG7-J6iaUZ3n",
    "outputId": "15527005-1d70-4110-db88-cb1285568c7b"
   },
   "outputs": [
    {
     "name": "stdout",
     "output_type": "stream",
     "text": [
      "Epoch 0. Training loss: 0.929641\n",
      "Epoch 1. Training loss: 0.318316\n",
      "Epoch 2. Training loss: 0.259498\n",
      "Epoch 3. Training loss: 0.243211\n",
      "Epoch 4. Training loss: 0.240031\n",
      "Epoch 5. Training loss: 0.238071\n",
      "Epoch 6. Training loss: 0.230717\n",
      "Epoch 7. Training loss: 0.226214\n",
      "Epoch 8. Training loss: 0.221790\n",
      "Epoch 9. Training loss: 0.215040\n",
      "Epoch 10. Training loss: 0.213339\n",
      "Epoch 11. Training loss: 0.202966\n",
      "Epoch 12. Training loss: 0.183492\n",
      "Epoch 13. Training loss: 0.180033\n",
      "Epoch 14. Training loss: 0.179251\n",
      "Epoch 15. Training loss: 0.172015\n",
      "Epoch 16. Training loss: 0.170182\n",
      "Epoch 17. Training loss: 0.168392\n",
      "Epoch 18. Training loss: 0.163660\n",
      "Epoch 19. Training loss: 0.160073\n",
      "Epoch 20. Training loss: 0.157330\n",
      "Epoch 21. Training loss: 0.152456\n",
      "Epoch 22. Training loss: 0.149167\n",
      "Epoch 23. Training loss: 0.146841\n",
      "Epoch 24. Training loss: 0.145118\n",
      "Epoch 25. Training loss: 0.142380\n",
      "Epoch 26. Training loss: 0.138850\n",
      "Epoch 27. Training loss: 0.136137\n",
      "Epoch 28. Training loss: 0.133602\n",
      "Epoch 29. Training loss: 0.131634\n",
      "Epoch 30. Training loss: 0.128430\n",
      "Epoch 31. Training loss: 0.126686\n",
      "Epoch 32. Training loss: 0.124172\n",
      "Epoch 33. Training loss: 0.120330\n",
      "Epoch 34. Training loss: 0.120758\n",
      "Epoch 35. Training loss: 0.118804\n",
      "Epoch 36. Training loss: 0.113998\n",
      "Epoch 37. Training loss: 0.113869\n",
      "Epoch 38. Training loss: 0.111703\n",
      "Epoch 39. Training loss: 0.112142\n",
      "Epoch 40. Training loss: 0.108019\n",
      "Epoch 41. Training loss: 0.111811\n",
      "Epoch 42. Training loss: 0.108940\n",
      "Epoch 43. Training loss: 0.108668\n",
      "Epoch 44. Training loss: 0.107032\n",
      "Epoch 45. Training loss: 0.112536\n",
      "Epoch 46. Training loss: 0.104998\n",
      "Epoch 47. Training loss: 0.105860\n",
      "Epoch 48. Training loss: 0.105668\n",
      "Epoch 49. Training loss: 0.102792\n",
      "Epoch 50. Training loss: 0.103171\n",
      "Epoch 51. Training loss: 0.099981\n",
      "Epoch 52. Training loss: 0.100438\n",
      "Epoch 53. Training loss: 0.099408\n",
      "Epoch 54. Training loss: 0.103914\n",
      "Epoch 55. Training loss: 0.097503\n",
      "Epoch 56. Training loss: 0.104694\n",
      "Epoch 57. Training loss: 0.100095\n",
      "Epoch 58. Training loss: 0.096519\n",
      "Epoch 59. Training loss: 0.093944\n",
      "Epoch 60. Training loss: 0.091240\n",
      "Epoch 61. Training loss: 0.089943\n",
      "Epoch 62. Training loss: 0.088121\n",
      "Epoch 63. Training loss: 0.086522\n",
      "Epoch 64. Training loss: 0.086999\n",
      "Epoch 65. Training loss: 0.084656\n",
      "Epoch 66. Training loss: 0.083680\n",
      "Epoch 67. Training loss: 0.082501\n",
      "Epoch 68. Training loss: 0.080766\n",
      "Epoch 69. Training loss: 0.080512\n",
      "Epoch 70. Training loss: 0.079009\n",
      "Epoch 71. Training loss: 0.078136\n",
      "Epoch 72. Training loss: 0.076068\n",
      "Epoch 73. Training loss: 0.078148\n"
     ]
    }
   ],
   "source": [
    "my_CNN = cnn_extended(epochs=optim_epochs)\n",
    "\n",
    "my_CNN.final_trainloop(data,labels)"
   ]
  },
  {
   "cell_type": "code",
   "execution_count": 0,
   "metadata": {
    "colab": {
     "base_uri": "https://localhost:8080/",
     "height": 50
    },
    "colab_type": "code",
    "executionInfo": {
     "elapsed": 1361,
     "status": "ok",
     "timestamp": 1589462261424,
     "user": {
      "displayName": "BELEN PULIDO BRAVO",
      "photoUrl": "",
      "userId": "09868762370980769562"
     },
     "user_tz": -120
    },
    "id": "K268ai4NUZ7s",
    "outputId": "563d7955-ec46-43e9-b75f-163ba56431f5"
   },
   "outputs": [
    {
     "name": "stdout",
     "output_type": "stream",
     "text": [
      "Train accuracy 0.951464\n",
      "Validation accuracy 0.988225\n"
     ]
    }
   ],
   "source": [
    "train_performance = my_CNN.eval_performance(train_data,train_labels)\n",
    "\n",
    "valid_performance = my_CNN.eval_performance(valid_data,valid_labels)\n",
    "\n",
    "print(\"Train accuracy %f\" %(train_performance))\n",
    "print(\"Validation accuracy %f\" %(valid_performance))"
   ]
  },
  {
   "cell_type": "code",
   "execution_count": 0,
   "metadata": {
    "colab": {
     "base_uri": "https://localhost:8080/",
     "height": 50
    },
    "colab_type": "code",
    "executionInfo": {
     "elapsed": 2340,
     "status": "ok",
     "timestamp": 1589462262419,
     "user": {
      "displayName": "BELEN PULIDO BRAVO",
      "photoUrl": "",
      "userId": "09868762370980769562"
     },
     "user_tz": -120
    },
    "id": "WdpOTjX3UZ9t",
    "outputId": "bf1c2629-0ad9-4f69-933a-02b01e84954e"
   },
   "outputs": [
    {
     "name": "stdout",
     "output_type": "stream",
     "text": [
      "torch.Size([1223])\n",
      "torch.Size([1413])\n"
     ]
    }
   ],
   "source": [
    "predictions1 = my_CNN.predict(test_data1)\n",
    "predictions1 = torch.squeeze(predictions1)\n",
    "print(predictions1.shape)\n",
    "\n",
    "predictions2 = my_CNN.predict(test_data2)\n",
    "predictions2 = torch.squeeze(predictions2)\n",
    "print(predictions2.shape)"
   ]
  },
  {
   "cell_type": "code",
   "execution_count": 0,
   "metadata": {
    "colab": {
     "base_uri": "https://localhost:8080/",
     "height": 50
    },
    "colab_type": "code",
    "executionInfo": {
     "elapsed": 2328,
     "status": "ok",
     "timestamp": 1589462262421,
     "user": {
      "displayName": "BELEN PULIDO BRAVO",
      "photoUrl": "",
      "userId": "09868762370980769562"
     },
     "user_tz": -120
    },
    "id": "sv86ozw2u4V-",
    "outputId": "3394e950-368e-4a2a-dc10-7fe023ad39f6"
   },
   "outputs": [
    {
     "name": "stdout",
     "output_type": "stream",
     "text": [
      "[0 1 2 3 4]\n",
      "[1 2 3 4]\n"
     ]
    }
   ],
   "source": [
    "print(np.unique(predictions1))\n",
    "print(np.unique(predictions2))"
   ]
  },
  {
   "cell_type": "markdown",
   "metadata": {
    "colab_type": "text",
    "id": "0NWalxDXvU-x"
   },
   "source": [
    "Let's remember that every label in predictions makes references to each window. This means that every target describes 48 observations, so we have to repeat every component 48 times to get a category per observation in the test set. Moreover, a few test observations have been lost in the windowing, but we can attach these few ones to the last label without any significant mistake. The following code do this for both test people."
   ]
  },
  {
   "cell_type": "code",
   "execution_count": 0,
   "metadata": {
    "colab": {},
    "colab_type": "code",
    "id": "df-xpyFeKIlK"
   },
   "outputs": [],
   "source": [
    "def get_final_pred(predictions,fin,ref,window_size = window_size):\n",
    "\n",
    "    final_predictions = np.empty(ref,dtype=int)\n",
    "\n",
    "    for i in range(fin):\n",
    "\n",
    "        final_predictions[window_size*i:window_size*(i+1)] = predictions[i]\n",
    "\n",
    "    final_predictions[window_size*(i+1): ] = predictions[-1]\n",
    "\n",
    "    return final_predictions"
   ]
  },
  {
   "cell_type": "code",
   "execution_count": 0,
   "metadata": {
    "colab": {},
    "colab_type": "code",
    "id": "eA6_7L8FKGs3"
   },
   "outputs": [],
   "source": [
    "\n",
    "final_predictions_1 = get_final_pred(predictions1,predictions1.shape[0],df_test.loc[1].shape[0])\n",
    "final_predictions_2 = get_final_pred(predictions2,predictions2.shape[0],df_test.loc[2].shape[0])"
   ]
  },
  {
   "cell_type": "code",
   "execution_count": 0,
   "metadata": {
    "colab": {},
    "colab_type": "code",
    "id": "Fj3yzM57sjQB"
   },
   "outputs": [],
   "source": [
    "#Original categories were from 1 to 5\n",
    "final_predictions_1 = final_predictions_1+1\n",
    "final_predictions_2 = final_predictions_2+1"
   ]
  },
  {
   "cell_type": "code",
   "execution_count": 0,
   "metadata": {
    "colab": {
     "base_uri": "https://localhost:8080/",
     "height": 266
    },
    "colab_type": "code",
    "executionInfo": {
     "elapsed": 1582,
     "status": "ok",
     "timestamp": 1589466728356,
     "user": {
      "displayName": "BELEN PULIDO BRAVO",
      "photoUrl": "",
      "userId": "09868762370980769562"
     },
     "user_tz": -120
    },
    "id": "aHHmNjDFkZ7A",
    "outputId": "cc478b18-e1bd-4cb2-d7b4-7a05099a2438"
   },
   "outputs": [
    {
     "data": {
      "image/png": "[encoded data removed]",
      "text/plain": [
       "<Figure size 432x288 with 6 Axes>"
      ]
     },
     "metadata": {
      "needs_background": "light",
      "tags": []
     },
     "output_type": "display_data"
    }
   ],
   "source": [
    "df_test1=df_test.loc[1]\n",
    "df_test1['label']=final_predictions_1\n",
    "df_test1\n",
    "plot_person(df_test1)"
   ]
  },
  {
   "cell_type": "markdown",
   "metadata": {},
   "source": [
    "The predicted labels for the first test person showed a similar distribution to the ones from the training set. We observed that all activities were present and that each signal component presented\n",
    "peaks of activity as before. On the other hand, the second person presented a different labels\n",
    "distribution, where running was not between the predicted activities. Standing was the main activity\n",
    "for this person and walking, sitting and lying were in a second plane."
   ]
  },
  {
   "cell_type": "code",
   "execution_count": 0,
   "metadata": {
    "colab": {
     "base_uri": "https://localhost:8080/",
     "height": 297
    },
    "colab_type": "code",
    "executionInfo": {
     "elapsed": 2904,
     "status": "ok",
     "timestamp": 1589462263059,
     "user": {
      "displayName": "BELEN PULIDO BRAVO",
      "photoUrl": "",
      "userId": "09868762370980769562"
     },
     "user_tz": -120
    },
    "id": "YGXQiPjOZEd1",
    "outputId": "89c28eab-fdf4-491a-95ac-1739a17ca7ee"
   },
   "outputs": [
    {
     "data": {
      "text/plain": [
       "Text(0.5, 1.0, 'Activity Person 1')"
      ]
     },
     "execution_count": 53,
     "metadata": {
      "tags": []
     },
     "output_type": "execute_result"
    },
    {
     "data": {
      "image/png": "[encoded data removed]",
      "text/plain": [
       "<Figure size 432x288 with 1 Axes>"
      ]
     },
     "metadata": {
      "needs_background": "light",
      "tags": []
     },
     "output_type": "display_data"
    }
   ],
   "source": [
    "plt.plot(final_predictions_1)\n",
    "plt.title(\"Activity Person 1\")"
   ]
  },
  {
   "cell_type": "code",
   "execution_count": 0,
   "metadata": {
    "colab": {
     "base_uri": "https://localhost:8080/",
     "height": 33
    },
    "colab_type": "code",
    "executionInfo": {
     "elapsed": 879,
     "status": "ok",
     "timestamp": 1589464966826,
     "user": {
      "displayName": "BELEN PULIDO BRAVO",
      "photoUrl": "",
      "userId": "09868762370980769562"
     },
     "user_tz": -120
    },
    "id": "EZ9PtCOGUOg7",
    "outputId": "55f3849a-5d9b-408c-cc57-6f79876691a0"
   },
   "outputs": [
    {
     "name": "stdout",
     "output_type": "stream",
     "text": [
      "[1104, 2576, 6288, 6693, 2912]\n"
     ]
    }
   ],
   "source": [
    "count_t1 = []\n",
    "\n",
    "for i in val:\n",
    "    count_t1.append(sum(final_predictions_1==i))\n",
    "\n",
    "print(count_t1)"
   ]
  },
  {
   "cell_type": "code",
   "execution_count": 0,
   "metadata": {
    "colab": {
     "base_uri": "https://localhost:8080/",
     "height": 295
    },
    "colab_type": "code",
    "executionInfo": {
     "elapsed": 982,
     "status": "ok",
     "timestamp": 1589464975857,
     "user": {
      "displayName": "BELEN PULIDO BRAVO",
      "photoUrl": "",
      "userId": "09868762370980769562"
     },
     "user_tz": -120
    },
    "id": "LHBAhyr7UoAM",
    "outputId": "d1b8755a-aa7e-4cc6-f997-ed913b0fca07"
   },
   "outputs": [
    {
     "data": {
      "image/png": "[encoded data removed]",
      "text/plain": [
       "<Figure size 432x288 with 1 Axes>"
      ]
     },
     "metadata": {
      "needs_background": "light",
      "tags": []
     },
     "output_type": "display_data"
    }
   ],
   "source": [
    "plot_person_activities(count_t1)"
   ]
  },
  {
   "cell_type": "code",
   "execution_count": 0,
   "metadata": {
    "colab": {
     "base_uri": "https://localhost:8080/",
     "height": 265
    },
    "colab_type": "code",
    "executionInfo": {
     "elapsed": 1452,
     "status": "ok",
     "timestamp": 1589466777047,
     "user": {
      "displayName": "BELEN PULIDO BRAVO",
      "photoUrl": "",
      "userId": "09868762370980769562"
     },
     "user_tz": -120
    },
    "id": "bZ9HJFo6mgCb",
    "outputId": "e101a6bb-306b-4f1b-be0d-8f533707fc3b"
   },
   "outputs": [
    {
     "data": {
      "image/png": "[encoded data removed]",
      "text/plain": [
       "<Figure size 432x288 with 6 Axes>"
      ]
     },
     "metadata": {
      "needs_background": "light",
      "tags": []
     },
     "output_type": "display_data"
    }
   ],
   "source": [
    "df_test2=df_test.loc[2]\n",
    "df_test2['label']=final_predictions_2\n",
    "df_test2\n",
    "plot_person(df_test2)"
   ]
  },
  {
   "cell_type": "code",
   "execution_count": 0,
   "metadata": {
    "colab": {
     "base_uri": "https://localhost:8080/",
     "height": 297
    },
    "colab_type": "code",
    "executionInfo": {
     "elapsed": 963,
     "status": "ok",
     "timestamp": 1589464991021,
     "user": {
      "displayName": "BELEN PULIDO BRAVO",
      "photoUrl": "",
      "userId": "09868762370980769562"
     },
     "user_tz": -120
    },
    "id": "vZCTiOQmZqMj",
    "outputId": "5fe05f5f-b22e-49f6-d14d-54db5b39fdd6"
   },
   "outputs": [
    {
     "data": {
      "text/plain": [
       "Text(0.5, 1.0, 'Activity Person 2')"
      ]
     },
     "execution_count": 66,
     "metadata": {
      "tags": []
     },
     "output_type": "execute_result"
    },
    {
     "data": {
      "image/png": "[encoded data removed]",
      "text/plain": [
       "<Figure size 432x288 with 1 Axes>"
      ]
     },
     "metadata": {
      "needs_background": "light",
      "tags": []
     },
     "output_type": "display_data"
    }
   ],
   "source": [
    "plt.plot(final_predictions_2)\n",
    "plt.title(\"Activity Person 2\")"
   ]
  },
  {
   "cell_type": "code",
   "execution_count": 0,
   "metadata": {
    "colab": {
     "base_uri": "https://localhost:8080/",
     "height": 33
    },
    "colab_type": "code",
    "executionInfo": {
     "elapsed": 1032,
     "status": "ok",
     "timestamp": 1589465031923,
     "user": {
      "displayName": "BELEN PULIDO BRAVO",
      "photoUrl": "",
      "userId": "09868762370980769562"
     },
     "user_tz": -120
    },
    "id": "dc1qsGaxVLw7",
    "outputId": "7c7670fe-aa12-4bb5-8264-e0b0a378e454"
   },
   "outputs": [
    {
     "name": "stdout",
     "output_type": "stream",
     "text": [
      "[0, 1680, 13895, 2704, 4336]\n"
     ]
    }
   ],
   "source": [
    "count_t2 = []\n",
    "\n",
    "for i in val:\n",
    "    count_t2.append(sum(final_predictions_2==i))\n",
    "\n",
    "print(count_t2)"
   ]
  },
  {
   "cell_type": "code",
   "execution_count": 0,
   "metadata": {
    "colab": {
     "base_uri": "https://localhost:8080/",
     "height": 295
    },
    "colab_type": "code",
    "executionInfo": {
     "elapsed": 971,
     "status": "ok",
     "timestamp": 1589465035289,
     "user": {
      "displayName": "BELEN PULIDO BRAVO",
      "photoUrl": "",
      "userId": "09868762370980769562"
     },
     "user_tz": -120
    },
    "id": "hu784PEtVQLL",
    "outputId": "440f4d0f-8c3a-4a8d-a647-2eaabd842016"
   },
   "outputs": [
    {
     "data": {
      "image/png": "[encoded data removed]",
      "text/plain": [
       "<Figure size 432x288 with 1 Axes>"
      ]
     },
     "metadata": {
      "needs_background": "light",
      "tags": []
     },
     "output_type": "display_data"
    }
   ],
   "source": [
    "plot_person_activities(count_t2)"
   ]
  },
  {
   "cell_type": "code",
   "execution_count": 0,
   "metadata": {
    "colab": {},
    "colab_type": "code",
    "id": "WSxRi4wgRkhb"
   },
   "outputs": [],
   "source": [
    "final_predictions_1 = final_predictions_1.reshape(1,final_predictions_1.shape[0])\n",
    "final_predictions_2 = final_predictions_2.reshape(1,final_predictions_2.shape[0])"
   ]
  },
  {
   "cell_type": "code",
   "execution_count": 0,
   "metadata": {
    "colab": {
     "base_uri": "https://localhost:8080/",
     "height": 50
    },
    "colab_type": "code",
    "executionInfo": {
     "elapsed": 1049,
     "status": "ok",
     "timestamp": 1589465052858,
     "user": {
      "displayName": "BELEN PULIDO BRAVO",
      "photoUrl": "",
      "userId": "09868762370980769562"
     },
     "user_tz": -120
    },
    "id": "nEurwrw1NaJ-",
    "outputId": "1e911c74-6483-4900-fc6f-880a9a335d26"
   },
   "outputs": [
    {
     "name": "stdout",
     "output_type": "stream",
     "text": [
      "19573\n",
      "(1, 19573)\n"
     ]
    }
   ],
   "source": [
    "print(df_test.loc[1].shape[0])\n",
    "print(final_predictions_1.shape)"
   ]
  },
  {
   "cell_type": "code",
   "execution_count": 0,
   "metadata": {
    "colab": {
     "base_uri": "https://localhost:8080/",
     "height": 50
    },
    "colab_type": "code",
    "executionInfo": {
     "elapsed": 1011,
     "status": "ok",
     "timestamp": 1589465055821,
     "user": {
      "displayName": "BELEN PULIDO BRAVO",
      "photoUrl": "",
      "userId": "09868762370980769562"
     },
     "user_tz": -120
    },
    "id": "EYc71d4TQ6zd",
    "outputId": "f26f858c-4af8-4505-f74a-9bf03350fee7"
   },
   "outputs": [
    {
     "name": "stdout",
     "output_type": "stream",
     "text": [
      "22615\n",
      "(1, 22615)\n"
     ]
    }
   ],
   "source": [
    "print(df_test.loc[2].shape[0])\n",
    "print(final_predictions_2.shape)"
   ]
  },
  {
   "cell_type": "markdown",
   "metadata": {
    "colab_type": "text",
    "id": "GFow7GlIRHDf"
   },
   "source": [
    "Above, we see that we got a prediction for each test observation"
   ]
  },
  {
   "cell_type": "code",
   "execution_count": 0,
   "metadata": {
    "colab": {
     "base_uri": "https://localhost:8080/",
     "height": 50
    },
    "colab_type": "code",
    "executionInfo": {
     "elapsed": 1307,
     "status": "ok",
     "timestamp": 1589465059356,
     "user": {
      "displayName": "BELEN PULIDO BRAVO",
      "photoUrl": "",
      "userId": "09868762370980769562"
     },
     "user_tz": -120
    },
    "id": "1azYx6yfNrfy",
    "outputId": "fe50366f-d5be-4632-e859-3c96ce920d76"
   },
   "outputs": [
    {
     "name": "stdout",
     "output_type": "stream",
     "text": [
      "[1 2 3 4 5]\n",
      "[2 3 4 5]\n"
     ]
    }
   ],
   "source": [
    "print(np.unique(final_predictions_1))\n",
    "print(np.unique(final_predictions_2))"
   ]
  },
  {
   "cell_type": "code",
   "execution_count": 0,
   "metadata": {
    "colab": {},
    "colab_type": "code",
    "id": "QLAqzT3bRKVm"
   },
   "outputs": [],
   "source": [
    "results = {'labels_test_1': final_predictions_1, 'labels_test_2': final_predictions_2}"
   ]
  },
  {
   "cell_type": "markdown",
   "metadata": {
    "colab_type": "text",
    "id": "45nICkbzSeCy"
   },
   "source": [
    "Let's generate the mat file"
   ]
  },
  {
   "cell_type": "code",
   "execution_count": 0,
   "metadata": {
    "colab": {},
    "colab_type": "code",
    "id": "qErNTu5KSXPj"
   },
   "outputs": [],
   "source": [
    "savemat(\"results\",results)"
   ]
  }
 ],
 "metadata": {
  "accelerator": "GPU",
  "colab": {
   "collapsed_sections": [],
   "name": "Lab_Exercise2_100415296_100421721.ipynb",
   "provenance": []
  },
  "kernelspec": {
   "display_name": "Python 3",
   "language": "python",
   "name": "python3"
  },
  "language_info": {
   "codemirror_mode": {
    "name": "ipython",
    "version": 3
   },
   "file_extension": ".py",
   "mimetype": "text/x-python",
   "name": "python",
   "nbconvert_exporter": "python",
   "pygments_lexer": "ipython3",
   "version": "3.7.6"
  }
 },
 "nbformat": 4,
 "nbformat_minor": 1
}
